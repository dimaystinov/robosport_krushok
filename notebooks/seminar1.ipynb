{
 "cells": [
  {
   "cell_type": "markdown",
   "metadata": {},
   "source": [
    "Если у Вас нет opencv:"
   ]
  },
  {
   "cell_type": "code",
   "execution_count": 5,
   "metadata": {},
   "outputs": [
    {
     "name": "stdout",
     "output_type": "stream",
     "text": [
      "Requirement already satisfied: opencv-python in c:\\programdata\\anaconda3\\lib\\site-packages (4.2.0.34)\n",
      "Requirement already satisfied: numpy>=1.14.5 in c:\\programdata\\anaconda3\\lib\\site-packages (from opencv-python) (1.16.5)\n"
     ]
    }
   ],
   "source": [
    "!pip install opencv-python"
   ]
  },
  {
   "cell_type": "markdown",
   "metadata": {},
   "source": [
    "# Demo №1"
   ]
  },
  {
   "cell_type": "code",
   "execution_count": 1,
   "metadata": {
    "scrolled": true
   },
   "outputs": [],
   "source": [
    "import cv2\n",
    "import time\n",
    "import os\n",
    "import math\n",
    "import sys\n",
    "\n",
    "sys.path.append(\"../modules/\")\n",
    "\n",
    "import input_output\n",
    "import processor\n",
    "\n",
    "det = processor.Processors ()\n",
    "det.add_processor (\"basket\")\n",
    "\n",
    "#RGB\n",
    "low_th  = (35, 15, 50)\n",
    "high_th = (60, 75, 135)\n",
    "#фильтр inrage rgb, название, имя фильтра\n",
    "det.add_filter (processor.inrange (low_th, high_th), \"basket\", \"inrange rgb\")\n",
    "\n",
    "#Источник картинки, видео mp4,avi, число - номер вебкамеры, -1 - открыть с минимальным номером\n",
    "source = input_output.Source (\"../data/images/rgb_basket.jpg\")\n",
    "#source = input_output.Source (\"-1\")\n",
    "\n",
    "while (True):\n",
    "    #кадр от source\n",
    "    frame = source.get_frame ()\n",
    "    \n",
    "    #process - маска (фильтр), флаг внутри детектора\n",
    "    mask, success = det.process (frame, \"basket\")\n",
    "    \n",
    "    #стадии обработки\n",
    "    stages = det.get_stages (\"basket\")\n",
    "\n",
    "    for i in range (len (stages)):\n",
    "        cv2.imshow (str (i), stages [i])\n",
    "        \n",
    "    time.sleep (0.02)\n",
    "\n",
    "    keyb = cv2.waitKey (1) & 0xFF\n",
    "\n",
    "    if (keyb == ord('q')):\n",
    "        break\n",
    "        \n",
    "source.release()\n",
    "cv2.destroyAllWindows()"
   ]
  },
  {
   "cell_type": "markdown",
   "metadata": {},
   "source": [
    "# Demo №2"
   ]
  },
  {
   "cell_type": "code",
   "execution_count": 1,
   "metadata": {},
   "outputs": [
    {
     "name": "stdout",
     "output_type": "stream",
     "text": [
      "(35, 15, 50) (60, 75, 135)\n",
      "(35, 15, 50) (60, 75, 135)\n",
      "(35, 15, 50) (60, 75, 135)\n",
      "(35, 15, 50) (60, 75, 135)\n",
      "(35, 15, 50) (60, 75, 135)\n",
      "(35, 15, 50) (60, 75, 135)\n",
      "(35, 15, 50) (60, 75, 135)\n",
      "(35, 15, 50) (60, 75, 135)\n",
      "(35, 15, 50) (60, 75, 135)\n",
      "(35, 15, 50) (60, 75, 135)\n",
      "(35, 15, 50) (60, 75, 135)\n",
      "(35, 15, 50) (60, 75, 135)\n",
      "(35, 15, 50) (60, 75, 135)\n",
      "(35, 15, 50) (60, 75, 135)\n",
      "(35, 15, 50) (60, 75, 135)\n",
      "(35, 15, 50) (60, 75, 135)\n",
      "(35, 15, 50) (60, 75, 135)\n",
      "(35, 15, 50) (60, 75, 135)\n",
      "(35, 15, 50) (60, 75, 135)\n",
      "(35, 15, 50) (60, 75, 135)\n",
      "(35, 15, 50) (60, 75, 135)\n",
      "(35, 15, 50) (60, 75, 135)\n",
      "(35, 15, 50) (60, 75, 135)\n",
      "(35, 15, 50) (60, 75, 135)\n",
      "(35, 15, 50) (60, 75, 135)\n",
      "(35, 15, 50) (60, 75, 135)\n",
      "(35, 15, 50) (60, 75, 135)\n",
      "(35, 15, 50) (60, 75, 135)\n",
      "(35, 15, 50) (60, 75, 135)\n",
      "(35, 15, 50) (60, 75, 135)\n",
      "(35, 15, 50) (60, 75, 135)\n",
      "(35, 15, 50) (60, 75, 135)\n",
      "(35, 15, 50) (60, 75, 135)\n",
      "(35, 15, 50) (60, 75, 135)\n",
      "(35, 15, 50) (60, 75, 135)\n",
      "(35, 15, 50) (60, 75, 135)\n",
      "(35, 15, 50) (60, 75, 135)\n",
      "(35, 15, 50) (60, 75, 135)\n",
      "(35, 15, 50) (60, 75, 135)\n",
      "(35, 15, 50) (60, 75, 135)\n",
      "(35, 15, 50) (60, 75, 135)\n",
      "(35, 15, 50) (60, 75, 135)\n",
      "(35, 15, 50) (60, 75, 135)\n",
      "(35, 15, 50) (60, 75, 135)\n",
      "(35, 15, 50) (60, 75, 135)\n",
      "(35, 15, 50) (60, 75, 135)\n",
      "(35, 15, 50) (60, 75, 135)\n",
      "(35, 15, 50) (60, 75, 135)\n",
      "(35, 15, 50) (60, 75, 135)\n",
      "(35, 15, 50) (60, 75, 135)\n",
      "(35, 15, 50) (60, 75, 135)\n",
      "(35, 15, 50) (60, 75, 135)\n",
      "(35, 15, 50) (60, 75, 135)\n",
      "(35, 15, 50) (60, 75, 135)\n",
      "(35, 15, 50) (60, 75, 135)\n",
      "(35, 15, 50) (60, 75, 135)\n",
      "(35, 15, 50) (60, 75, 135)\n",
      "(35, 15, 50) (60, 75, 135)\n",
      "(35, 15, 50) (60, 75, 135)\n",
      "(35, 15, 50) (60, 75, 135)\n",
      "(35, 15, 50) (60, 75, 135)\n",
      "(35, 15, 50) (60, 75, 135)\n",
      "(35, 15, 50) (60, 75, 135)\n",
      "(35, 15, 50) (60, 75, 135)\n",
      "(35, 15, 50) (60, 75, 135)\n",
      "(35, 15, 50) (60, 75, 135)\n",
      "(35, 15, 50) (60, 75, 135)\n",
      "(35, 15, 50) (60, 75, 135)\n",
      "(35, 15, 50) (60, 75, 135)\n",
      "(35, 15, 50) (60, 75, 135)\n",
      "(35, 15, 50) (60, 75, 135)\n",
      "(35, 15, 50) (60, 75, 135)\n",
      "(35, 15, 50) (60, 75, 135)\n",
      "(35, 15, 50) (60, 75, 135)\n",
      "(35, 15, 50) (60, 75, 135)\n",
      "(35, 15, 50) (60, 75, 135)\n",
      "(35, 15, 50) (60, 75, 135)\n",
      "(35, 15, 50) (60, 75, 135)\n",
      "(35, 15, 50) (60, 75, 135)\n",
      "(35, 15, 50) (60, 75, 135)\n",
      "(35, 15, 50) (60, 75, 135)\n",
      "(35, 15, 50) (60, 75, 135)\n",
      "(35, 15, 50) (60, 75, 135)\n",
      "(35, 15, 50) (60, 75, 135)\n",
      "(35, 15, 50) (60, 75, 135)\n",
      "(35, 15, 50) (60, 75, 135)\n",
      "(35, 15, 50) (60, 75, 135)\n",
      "(35, 15, 50) (60, 75, 135)\n",
      "(35, 15, 50) (60, 75, 135)\n",
      "(35, 15, 50) (60, 75, 135)\n",
      "(35, 15, 50) (60, 75, 135)\n",
      "(35, 15, 50) (60, 75, 135)\n",
      "(35, 15, 50) (60, 75, 135)\n",
      "(35, 15, 50) (60, 75, 135)\n",
      "(35, 15, 50) (60, 75, 135)\n",
      "(35, 15, 50) (60, 75, 135)\n",
      "(35, 15, 50) (60, 75, 135)\n",
      "(35, 15, 50) (60, 75, 135)\n",
      "(35, 15, 50) (60, 75, 135)\n",
      "(35, 15, 50) (60, 75, 135)\n",
      "(35, 15, 50) (60, 75, 135)\n",
      "(35, 15, 50) (60, 75, 135)\n",
      "(35, 15, 50) (60, 75, 135)\n",
      "(35, 15, 50) (60, 75, 135)\n",
      "(35, 15, 50) (60, 75, 135)\n",
      "(35, 15, 50) (60, 75, 135)\n",
      "(35, 15, 50) (60, 75, 135)\n",
      "(35, 15, 50) (60, 75, 135)\n",
      "(35, 15, 50) (60, 75, 135)\n",
      "(35, 15, 50) (60, 75, 135)\n",
      "(35, 15, 50) (60, 75, 135)\n",
      "(35, 15, 50) (60, 75, 135)\n",
      "(35, 15, 50) (60, 75, 135)\n",
      "(35, 15, 50) (60, 75, 135)\n",
      "(35, 15, 50) (60, 75, 135)\n",
      "(35, 15, 50) (60, 75, 135)\n",
      "(35, 15, 50) (60, 75, 135)\n",
      "(35, 15, 50) (60, 75, 135)\n",
      "(35, 15, 50) (60, 75, 135)\n",
      "(35, 15, 50) (60, 75, 135)\n",
      "(35, 15, 50) (60, 75, 135)\n",
      "(35, 15, 50) (60, 75, 135)\n",
      "(35, 15, 50) (60, 75, 135)\n",
      "(35, 15, 50) (60, 75, 135)\n",
      "(35, 15, 50) (60, 75, 135)\n",
      "(35, 15, 50) (60, 75, 135)\n",
      "(35, 15, 50) (60, 75, 135)\n",
      "(35, 15, 50) (60, 75, 135)\n",
      "(35, 15, 50) (60, 75, 135)\n",
      "(35, 15, 50) (60, 75, 135)\n",
      "(35, 15, 50) (60, 75, 135)\n",
      "(35, 15, 50) (60, 75, 135)\n",
      "(35, 15, 50) (60, 75, 135)\n",
      "(35, 15, 50) (60, 75, 135)\n",
      "(35, 15, 50) (60, 75, 135)\n",
      "(35, 15, 50) (60, 75, 135)\n",
      "(35, 15, 50) (60, 75, 135)\n",
      "(35, 15, 50) (60, 75, 135)\n",
      "(35, 15, 50) (60, 75, 135)\n",
      "(35, 15, 50) (60, 75, 135)\n",
      "(35, 15, 50) (60, 75, 135)\n",
      "(35, 15, 50) (60, 75, 135)\n",
      "(35, 15, 50) (60, 75, 135)\n",
      "(35, 15, 50) (60, 75, 135)\n",
      "(35, 15, 50) (60, 75, 135)\n",
      "(35, 15, 50) (60, 75, 135)\n",
      "(35, 15, 50) (60, 75, 135)\n",
      "(35, 15, 50) (60, 75, 135)\n",
      "(35, 15, 50) (60, 75, 135)\n",
      "(35, 15, 50) (60, 75, 135)\n",
      "(35, 15, 50) (60, 75, 135)\n",
      "(35, 15, 50) (60, 75, 135)\n",
      "(35, 15, 50) (60, 75, 135)\n",
      "(35, 15, 50) (60, 75, 135)\n",
      "(35, 15, 50) (60, 75, 135)\n",
      "(35, 15, 50) (60, 75, 135)\n",
      "(35, 15, 50) (60, 75, 135)\n",
      "(35, 15, 50) (60, 75, 135)\n",
      "(35, 15, 50) (60, 75, 135)\n",
      "(35, 15, 50) (60, 75, 135)\n",
      "(35, 15, 50) (60, 75, 135)\n",
      "(35, 15, 50) (60, 75, 135)\n",
      "(35, 15, 50) (60, 75, 135)\n",
      "(35, 15, 50) (60, 75, 135)\n",
      "(35, 15, 50) (60, 75, 135)\n",
      "(35, 15, 50) (60, 75, 135)\n",
      "(35, 15, 50) (60, 75, 135)\n",
      "(35, 15, 50) (60, 75, 135)\n",
      "(35, 15, 50) (60, 75, 135)\n",
      "(35, 15, 50) (60, 75, 135)\n",
      "(35, 15, 50) (60, 75, 135)\n",
      "(35, 15, 50) (60, 75, 135)\n",
      "(35, 15, 50) (60, 75, 135)\n",
      "(35, 15, 50) (60, 75, 135)\n",
      "(35, 15, 50) (60, 75, 135)\n",
      "(35, 15, 50) (60, 75, 135)\n",
      "(35, 15, 50) (60, 75, 135)\n",
      "(35, 15, 50) (60, 75, 135)\n",
      "(35, 15, 50) (60, 75, 135)\n",
      "(35, 15, 50) (60, 75, 135)\n",
      "(35, 15, 50) (60, 75, 135)\n",
      "(35, 15, 50) (60, 75, 135)\n",
      "(35, 15, 50) (60, 75, 135)\n",
      "(35, 15, 50) (60, 75, 135)\n",
      "(35, 15, 50) (60, 75, 135)\n",
      "(35, 15, 50) (60, 75, 135)\n",
      "(35, 15, 50) (60, 75, 135)\n",
      "(35, 15, 50) (60, 75, 135)\n",
      "(35, 15, 50) (60, 75, 135)\n",
      "(35, 15, 50) (60, 75, 135)\n",
      "(35, 15, 50) (60, 75, 135)\n",
      "(35, 15, 50) (60, 75, 135)\n",
      "(35, 15, 50) (60, 75, 135)\n",
      "(35, 15, 50) (60, 75, 135)\n",
      "(35, 15, 50) (60, 75, 135)\n",
      "(35, 15, 50) (60, 75, 135)\n",
      "(35, 15, 50) (60, 75, 135)\n",
      "(35, 15, 50) (60, 75, 135)\n",
      "(35, 15, 50) (60, 75, 135)\n",
      "(35, 15, 50) (60, 75, 135)\n",
      "(35, 15, 50) (60, 75, 135)\n",
      "(35, 15, 50) (60, 75, 135)\n",
      "(35, 15, 50) (60, 75, 135)\n",
      "(35, 15, 50) (60, 75, 135)\n",
      "(35, 15, 50) (60, 75, 135)\n",
      "(35, 15, 50) (60, 75, 135)\n",
      "(35, 15, 50) (60, 75, 135)\n",
      "(35, 15, 50) (60, 75, 135)\n",
      "(35, 15, 50) (60, 75, 135)\n",
      "(35, 15, 50) (60, 75, 135)\n",
      "(35, 15, 50) (60, 75, 135)\n",
      "(35, 15, 50) (60, 75, 135)\n",
      "(35, 15, 50) (60, 75, 135)\n",
      "(35, 15, 50) (60, 75, 135)\n",
      "(35, 15, 50) (60, 75, 135)\n",
      "(35, 15, 50) (60, 75, 135)\n",
      "(35, 15, 50) (60, 75, 135)\n",
      "(35, 15, 50) (60, 75, 135)\n",
      "(35, 15, 50) (60, 75, 135)\n"
     ]
    },
    {
     "ename": "AttributeError",
     "evalue": "'inrange' object has no attribute 'set_den_high'",
     "output_type": "error",
     "traceback": [
      "\u001b[1;31m---------------------------------------------------------------------------\u001b[0m",
      "\u001b[1;31mAttributeError\u001b[0m                            Traceback (most recent call last)",
      "\u001b[1;32m<ipython-input-1-923561c15193>\u001b[0m in \u001b[0;36m<lambda>\u001b[1;34m(new_coeff)\u001b[0m\n\u001b[0;32m     64\u001b[0m     lambda new_coeff : det.processors [\"basket\"] [\"inrange rgb\"].set_den_low(new_coeff//100))\n\u001b[0;32m     65\u001b[0m cv2.createTrackbar (\"den_high\", \"trackbars\", den[1], 100, \n\u001b[1;32m---> 66\u001b[1;33m     lambda new_coeff : det.processors [\"basket\"] [\"inrange rgb\"].set_den_high(new_coeff//100))\n\u001b[0m\u001b[0;32m     67\u001b[0m \u001b[1;33m\u001b[0m\u001b[0m\n\u001b[0;32m     68\u001b[0m \u001b[1;33m\u001b[0m\u001b[0m\n",
      "\u001b[1;31mAttributeError\u001b[0m: 'inrange' object has no attribute 'set_den_high'"
     ]
    },
    {
     "ename": "AttributeError",
     "evalue": "'inrange' object has no attribute 'set_den_high'",
     "output_type": "error",
     "traceback": [
      "\u001b[1;31m---------------------------------------------------------------------------\u001b[0m",
      "\u001b[1;31mAttributeError\u001b[0m                            Traceback (most recent call last)",
      "\u001b[1;32m<ipython-input-1-923561c15193>\u001b[0m in \u001b[0;36m<lambda>\u001b[1;34m(new_coeff)\u001b[0m\n\u001b[0;32m     64\u001b[0m     lambda new_coeff : det.processors [\"basket\"] [\"inrange rgb\"].set_den_low(new_coeff//100))\n\u001b[0;32m     65\u001b[0m cv2.createTrackbar (\"den_high\", \"trackbars\", den[1], 100, \n\u001b[1;32m---> 66\u001b[1;33m     lambda new_coeff : det.processors [\"basket\"] [\"inrange rgb\"].set_den_high(new_coeff//100))\n\u001b[0m\u001b[0;32m     67\u001b[0m \u001b[1;33m\u001b[0m\u001b[0m\n\u001b[0;32m     68\u001b[0m \u001b[1;33m\u001b[0m\u001b[0m\n",
      "\u001b[1;31mAttributeError\u001b[0m: 'inrange' object has no attribute 'set_den_high'"
     ]
    },
    {
     "ename": "AttributeError",
     "evalue": "'inrange' object has no attribute 'set_den_high'",
     "output_type": "error",
     "traceback": [
      "\u001b[1;31m---------------------------------------------------------------------------\u001b[0m",
      "\u001b[1;31mAttributeError\u001b[0m                            Traceback (most recent call last)",
      "\u001b[1;32m<ipython-input-1-923561c15193>\u001b[0m in \u001b[0;36m<lambda>\u001b[1;34m(new_coeff)\u001b[0m\n\u001b[0;32m     64\u001b[0m     lambda new_coeff : det.processors [\"basket\"] [\"inrange rgb\"].set_den_low(new_coeff//100))\n\u001b[0;32m     65\u001b[0m cv2.createTrackbar (\"den_high\", \"trackbars\", den[1], 100, \n\u001b[1;32m---> 66\u001b[1;33m     lambda new_coeff : det.processors [\"basket\"] [\"inrange rgb\"].set_den_high(new_coeff//100))\n\u001b[0m\u001b[0;32m     67\u001b[0m \u001b[1;33m\u001b[0m\u001b[0m\n\u001b[0;32m     68\u001b[0m \u001b[1;33m\u001b[0m\u001b[0m\n",
      "\u001b[1;31mAttributeError\u001b[0m: 'inrange' object has no attribute 'set_den_high'"
     ]
    },
    {
     "ename": "AttributeError",
     "evalue": "'inrange' object has no attribute 'set_den_high'",
     "output_type": "error",
     "traceback": [
      "\u001b[1;31m---------------------------------------------------------------------------\u001b[0m",
      "\u001b[1;31mAttributeError\u001b[0m                            Traceback (most recent call last)",
      "\u001b[1;32m<ipython-input-1-923561c15193>\u001b[0m in \u001b[0;36m<lambda>\u001b[1;34m(new_coeff)\u001b[0m\n\u001b[0;32m     64\u001b[0m     lambda new_coeff : det.processors [\"basket\"] [\"inrange rgb\"].set_den_low(new_coeff//100))\n\u001b[0;32m     65\u001b[0m cv2.createTrackbar (\"den_high\", \"trackbars\", den[1], 100, \n\u001b[1;32m---> 66\u001b[1;33m     lambda new_coeff : det.processors [\"basket\"] [\"inrange rgb\"].set_den_high(new_coeff//100))\n\u001b[0m\u001b[0;32m     67\u001b[0m \u001b[1;33m\u001b[0m\u001b[0m\n\u001b[0;32m     68\u001b[0m \u001b[1;33m\u001b[0m\u001b[0m\n",
      "\u001b[1;31mAttributeError\u001b[0m: 'inrange' object has no attribute 'set_den_high'"
     ]
    },
    {
     "name": "stdout",
     "output_type": "stream",
     "text": [
      "(35, 15, 50) (60, 75, 135)\n"
     ]
    },
    {
     "ename": "AttributeError",
     "evalue": "'inrange' object has no attribute 'set_den_high'",
     "output_type": "error",
     "traceback": [
      "\u001b[1;31m---------------------------------------------------------------------------\u001b[0m",
      "\u001b[1;31mAttributeError\u001b[0m                            Traceback (most recent call last)",
      "\u001b[1;32m<ipython-input-1-923561c15193>\u001b[0m in \u001b[0;36m<lambda>\u001b[1;34m(new_coeff)\u001b[0m\n\u001b[0;32m     64\u001b[0m     lambda new_coeff : det.processors [\"basket\"] [\"inrange rgb\"].set_den_low(new_coeff//100))\n\u001b[0;32m     65\u001b[0m cv2.createTrackbar (\"den_high\", \"trackbars\", den[1], 100, \n\u001b[1;32m---> 66\u001b[1;33m     lambda new_coeff : det.processors [\"basket\"] [\"inrange rgb\"].set_den_high(new_coeff//100))\n\u001b[0m\u001b[0;32m     67\u001b[0m \u001b[1;33m\u001b[0m\u001b[0m\n\u001b[0;32m     68\u001b[0m \u001b[1;33m\u001b[0m\u001b[0m\n",
      "\u001b[1;31mAttributeError\u001b[0m: 'inrange' object has no attribute 'set_den_high'"
     ]
    },
    {
     "name": "stdout",
     "output_type": "stream",
     "text": [
      "(35, 15, 50) (60, 75, 135)\n"
     ]
    },
    {
     "ename": "AttributeError",
     "evalue": "'inrange' object has no attribute 'set_den_high'",
     "output_type": "error",
     "traceback": [
      "\u001b[1;31m---------------------------------------------------------------------------\u001b[0m",
      "\u001b[1;31mAttributeError\u001b[0m                            Traceback (most recent call last)",
      "\u001b[1;32m<ipython-input-1-923561c15193>\u001b[0m in \u001b[0;36m<lambda>\u001b[1;34m(new_coeff)\u001b[0m\n\u001b[0;32m     64\u001b[0m     lambda new_coeff : det.processors [\"basket\"] [\"inrange rgb\"].set_den_low(new_coeff//100))\n\u001b[0;32m     65\u001b[0m cv2.createTrackbar (\"den_high\", \"trackbars\", den[1], 100, \n\u001b[1;32m---> 66\u001b[1;33m     lambda new_coeff : det.processors [\"basket\"] [\"inrange rgb\"].set_den_high(new_coeff//100))\n\u001b[0m\u001b[0;32m     67\u001b[0m \u001b[1;33m\u001b[0m\u001b[0m\n\u001b[0;32m     68\u001b[0m \u001b[1;33m\u001b[0m\u001b[0m\n",
      "\u001b[1;31mAttributeError\u001b[0m: 'inrange' object has no attribute 'set_den_high'"
     ]
    },
    {
     "ename": "AttributeError",
     "evalue": "'inrange' object has no attribute 'set_den_high'",
     "output_type": "error",
     "traceback": [
      "\u001b[1;31m---------------------------------------------------------------------------\u001b[0m",
      "\u001b[1;31mAttributeError\u001b[0m                            Traceback (most recent call last)",
      "\u001b[1;32m<ipython-input-1-923561c15193>\u001b[0m in \u001b[0;36m<lambda>\u001b[1;34m(new_coeff)\u001b[0m\n\u001b[0;32m     64\u001b[0m     lambda new_coeff : det.processors [\"basket\"] [\"inrange rgb\"].set_den_low(new_coeff//100))\n\u001b[0;32m     65\u001b[0m cv2.createTrackbar (\"den_high\", \"trackbars\", den[1], 100, \n\u001b[1;32m---> 66\u001b[1;33m     lambda new_coeff : det.processors [\"basket\"] [\"inrange rgb\"].set_den_high(new_coeff//100))\n\u001b[0m\u001b[0;32m     67\u001b[0m \u001b[1;33m\u001b[0m\u001b[0m\n\u001b[0;32m     68\u001b[0m \u001b[1;33m\u001b[0m\u001b[0m\n",
      "\u001b[1;31mAttributeError\u001b[0m: 'inrange' object has no attribute 'set_den_high'"
     ]
    },
    {
     "ename": "AttributeError",
     "evalue": "'inrange' object has no attribute 'set_den_high'",
     "output_type": "error",
     "traceback": [
      "\u001b[1;31m---------------------------------------------------------------------------\u001b[0m",
      "\u001b[1;31mAttributeError\u001b[0m                            Traceback (most recent call last)",
      "\u001b[1;32m<ipython-input-1-923561c15193>\u001b[0m in \u001b[0;36m<lambda>\u001b[1;34m(new_coeff)\u001b[0m\n\u001b[0;32m     64\u001b[0m     lambda new_coeff : det.processors [\"basket\"] [\"inrange rgb\"].set_den_low(new_coeff//100))\n\u001b[0;32m     65\u001b[0m cv2.createTrackbar (\"den_high\", \"trackbars\", den[1], 100, \n\u001b[1;32m---> 66\u001b[1;33m     lambda new_coeff : det.processors [\"basket\"] [\"inrange rgb\"].set_den_high(new_coeff//100))\n\u001b[0m\u001b[0;32m     67\u001b[0m \u001b[1;33m\u001b[0m\u001b[0m\n\u001b[0;32m     68\u001b[0m \u001b[1;33m\u001b[0m\u001b[0m\n",
      "\u001b[1;31mAttributeError\u001b[0m: 'inrange' object has no attribute 'set_den_high'"
     ]
    },
    {
     "name": "stdout",
     "output_type": "stream",
     "text": [
      "(35, 15, 50) (60, 75, 135)\n"
     ]
    },
    {
     "ename": "AttributeError",
     "evalue": "'inrange' object has no attribute 'set_den_high'",
     "output_type": "error",
     "traceback": [
      "\u001b[1;31m---------------------------------------------------------------------------\u001b[0m",
      "\u001b[1;31mAttributeError\u001b[0m                            Traceback (most recent call last)",
      "\u001b[1;32m<ipython-input-1-923561c15193>\u001b[0m in \u001b[0;36m<lambda>\u001b[1;34m(new_coeff)\u001b[0m\n\u001b[0;32m     64\u001b[0m     lambda new_coeff : det.processors [\"basket\"] [\"inrange rgb\"].set_den_low(new_coeff//100))\n\u001b[0;32m     65\u001b[0m cv2.createTrackbar (\"den_high\", \"trackbars\", den[1], 100, \n\u001b[1;32m---> 66\u001b[1;33m     lambda new_coeff : det.processors [\"basket\"] [\"inrange rgb\"].set_den_high(new_coeff//100))\n\u001b[0m\u001b[0;32m     67\u001b[0m \u001b[1;33m\u001b[0m\u001b[0m\n\u001b[0;32m     68\u001b[0m \u001b[1;33m\u001b[0m\u001b[0m\n",
      "\u001b[1;31mAttributeError\u001b[0m: 'inrange' object has no attribute 'set_den_high'"
     ]
    },
    {
     "name": "stdout",
     "output_type": "stream",
     "text": [
      "(35, 15, 50) (60, 75, 135)\n"
     ]
    },
    {
     "ename": "AttributeError",
     "evalue": "'inrange' object has no attribute 'set_den_high'",
     "output_type": "error",
     "traceback": [
      "\u001b[1;31m---------------------------------------------------------------------------\u001b[0m",
      "\u001b[1;31mAttributeError\u001b[0m                            Traceback (most recent call last)",
      "\u001b[1;32m<ipython-input-1-923561c15193>\u001b[0m in \u001b[0;36m<lambda>\u001b[1;34m(new_coeff)\u001b[0m\n\u001b[0;32m     64\u001b[0m     lambda new_coeff : det.processors [\"basket\"] [\"inrange rgb\"].set_den_low(new_coeff//100))\n\u001b[0;32m     65\u001b[0m cv2.createTrackbar (\"den_high\", \"trackbars\", den[1], 100, \n\u001b[1;32m---> 66\u001b[1;33m     lambda new_coeff : det.processors [\"basket\"] [\"inrange rgb\"].set_den_high(new_coeff//100))\n\u001b[0m\u001b[0;32m     67\u001b[0m \u001b[1;33m\u001b[0m\u001b[0m\n\u001b[0;32m     68\u001b[0m \u001b[1;33m\u001b[0m\u001b[0m\n",
      "\u001b[1;31mAttributeError\u001b[0m: 'inrange' object has no attribute 'set_den_high'"
     ]
    },
    {
     "name": "stdout",
     "output_type": "stream",
     "text": [
      "(35, 15, 50) (60, 75, 135)\n"
     ]
    },
    {
     "ename": "AttributeError",
     "evalue": "'inrange' object has no attribute 'set_den_high'",
     "output_type": "error",
     "traceback": [
      "\u001b[1;31m---------------------------------------------------------------------------\u001b[0m",
      "\u001b[1;31mAttributeError\u001b[0m                            Traceback (most recent call last)",
      "\u001b[1;32m<ipython-input-1-923561c15193>\u001b[0m in \u001b[0;36m<lambda>\u001b[1;34m(new_coeff)\u001b[0m\n\u001b[0;32m     64\u001b[0m     lambda new_coeff : det.processors [\"basket\"] [\"inrange rgb\"].set_den_low(new_coeff//100))\n\u001b[0;32m     65\u001b[0m cv2.createTrackbar (\"den_high\", \"trackbars\", den[1], 100, \n\u001b[1;32m---> 66\u001b[1;33m     lambda new_coeff : det.processors [\"basket\"] [\"inrange rgb\"].set_den_high(new_coeff//100))\n\u001b[0m\u001b[0;32m     67\u001b[0m \u001b[1;33m\u001b[0m\u001b[0m\n\u001b[0;32m     68\u001b[0m \u001b[1;33m\u001b[0m\u001b[0m\n",
      "\u001b[1;31mAttributeError\u001b[0m: 'inrange' object has no attribute 'set_den_high'"
     ]
    },
    {
     "name": "stdout",
     "output_type": "stream",
     "text": [
      "(35, 15, 50) (60, 75, 135)\n"
     ]
    },
    {
     "ename": "AttributeError",
     "evalue": "'inrange' object has no attribute 'set_den_high'",
     "output_type": "error",
     "traceback": [
      "\u001b[1;31m---------------------------------------------------------------------------\u001b[0m",
      "\u001b[1;31mAttributeError\u001b[0m                            Traceback (most recent call last)",
      "\u001b[1;32m<ipython-input-1-923561c15193>\u001b[0m in \u001b[0;36m<lambda>\u001b[1;34m(new_coeff)\u001b[0m\n\u001b[0;32m     64\u001b[0m     lambda new_coeff : det.processors [\"basket\"] [\"inrange rgb\"].set_den_low(new_coeff//100))\n\u001b[0;32m     65\u001b[0m cv2.createTrackbar (\"den_high\", \"trackbars\", den[1], 100, \n\u001b[1;32m---> 66\u001b[1;33m     lambda new_coeff : det.processors [\"basket\"] [\"inrange rgb\"].set_den_high(new_coeff//100))\n\u001b[0m\u001b[0;32m     67\u001b[0m \u001b[1;33m\u001b[0m\u001b[0m\n\u001b[0;32m     68\u001b[0m \u001b[1;33m\u001b[0m\u001b[0m\n",
      "\u001b[1;31mAttributeError\u001b[0m: 'inrange' object has no attribute 'set_den_high'"
     ]
    },
    {
     "name": "stdout",
     "output_type": "stream",
     "text": [
      "(35, 15, 50) (60, 75, 135)\n"
     ]
    },
    {
     "ename": "AttributeError",
     "evalue": "'inrange' object has no attribute 'set_den_high'",
     "output_type": "error",
     "traceback": [
      "\u001b[1;31m---------------------------------------------------------------------------\u001b[0m",
      "\u001b[1;31mAttributeError\u001b[0m                            Traceback (most recent call last)",
      "\u001b[1;32m<ipython-input-1-923561c15193>\u001b[0m in \u001b[0;36m<lambda>\u001b[1;34m(new_coeff)\u001b[0m\n\u001b[0;32m     64\u001b[0m     lambda new_coeff : det.processors [\"basket\"] [\"inrange rgb\"].set_den_low(new_coeff//100))\n\u001b[0;32m     65\u001b[0m cv2.createTrackbar (\"den_high\", \"trackbars\", den[1], 100, \n\u001b[1;32m---> 66\u001b[1;33m     lambda new_coeff : det.processors [\"basket\"] [\"inrange rgb\"].set_den_high(new_coeff//100))\n\u001b[0m\u001b[0;32m     67\u001b[0m \u001b[1;33m\u001b[0m\u001b[0m\n\u001b[0;32m     68\u001b[0m \u001b[1;33m\u001b[0m\u001b[0m\n",
      "\u001b[1;31mAttributeError\u001b[0m: 'inrange' object has no attribute 'set_den_high'"
     ]
    },
    {
     "ename": "AttributeError",
     "evalue": "'inrange' object has no attribute 'set_den_high'",
     "output_type": "error",
     "traceback": [
      "\u001b[1;31m---------------------------------------------------------------------------\u001b[0m",
      "\u001b[1;31mAttributeError\u001b[0m                            Traceback (most recent call last)",
      "\u001b[1;32m<ipython-input-1-923561c15193>\u001b[0m in \u001b[0;36m<lambda>\u001b[1;34m(new_coeff)\u001b[0m\n\u001b[0;32m     64\u001b[0m     lambda new_coeff : det.processors [\"basket\"] [\"inrange rgb\"].set_den_low(new_coeff//100))\n\u001b[0;32m     65\u001b[0m cv2.createTrackbar (\"den_high\", \"trackbars\", den[1], 100, \n\u001b[1;32m---> 66\u001b[1;33m     lambda new_coeff : det.processors [\"basket\"] [\"inrange rgb\"].set_den_high(new_coeff//100))\n\u001b[0m\u001b[0;32m     67\u001b[0m \u001b[1;33m\u001b[0m\u001b[0m\n\u001b[0;32m     68\u001b[0m \u001b[1;33m\u001b[0m\u001b[0m\n",
      "\u001b[1;31mAttributeError\u001b[0m: 'inrange' object has no attribute 'set_den_high'"
     ]
    },
    {
     "name": "stdout",
     "output_type": "stream",
     "text": [
      "(35, 15, 50) (60, 75, 135)\n"
     ]
    },
    {
     "ename": "AttributeError",
     "evalue": "'inrange' object has no attribute 'set_den_high'",
     "output_type": "error",
     "traceback": [
      "\u001b[1;31m---------------------------------------------------------------------------\u001b[0m",
      "\u001b[1;31mAttributeError\u001b[0m                            Traceback (most recent call last)",
      "\u001b[1;32m<ipython-input-1-923561c15193>\u001b[0m in \u001b[0;36m<lambda>\u001b[1;34m(new_coeff)\u001b[0m\n\u001b[0;32m     64\u001b[0m     lambda new_coeff : det.processors [\"basket\"] [\"inrange rgb\"].set_den_low(new_coeff//100))\n\u001b[0;32m     65\u001b[0m cv2.createTrackbar (\"den_high\", \"trackbars\", den[1], 100, \n\u001b[1;32m---> 66\u001b[1;33m     lambda new_coeff : det.processors [\"basket\"] [\"inrange rgb\"].set_den_high(new_coeff//100))\n\u001b[0m\u001b[0;32m     67\u001b[0m \u001b[1;33m\u001b[0m\u001b[0m\n\u001b[0;32m     68\u001b[0m \u001b[1;33m\u001b[0m\u001b[0m\n",
      "\u001b[1;31mAttributeError\u001b[0m: 'inrange' object has no attribute 'set_den_high'"
     ]
    },
    {
     "name": "stdout",
     "output_type": "stream",
     "text": [
      "(35, 15, 50) (60, 75, 135)\n"
     ]
    },
    {
     "ename": "AttributeError",
     "evalue": "'inrange' object has no attribute 'set_den_high'",
     "output_type": "error",
     "traceback": [
      "\u001b[1;31m---------------------------------------------------------------------------\u001b[0m",
      "\u001b[1;31mAttributeError\u001b[0m                            Traceback (most recent call last)",
      "\u001b[1;32m<ipython-input-1-923561c15193>\u001b[0m in \u001b[0;36m<lambda>\u001b[1;34m(new_coeff)\u001b[0m\n\u001b[0;32m     64\u001b[0m     lambda new_coeff : det.processors [\"basket\"] [\"inrange rgb\"].set_den_low(new_coeff//100))\n\u001b[0;32m     65\u001b[0m cv2.createTrackbar (\"den_high\", \"trackbars\", den[1], 100, \n\u001b[1;32m---> 66\u001b[1;33m     lambda new_coeff : det.processors [\"basket\"] [\"inrange rgb\"].set_den_high(new_coeff//100))\n\u001b[0m\u001b[0;32m     67\u001b[0m \u001b[1;33m\u001b[0m\u001b[0m\n\u001b[0;32m     68\u001b[0m \u001b[1;33m\u001b[0m\u001b[0m\n",
      "\u001b[1;31mAttributeError\u001b[0m: 'inrange' object has no attribute 'set_den_high'"
     ]
    },
    {
     "ename": "AttributeError",
     "evalue": "'inrange' object has no attribute 'set_den_high'",
     "output_type": "error",
     "traceback": [
      "\u001b[1;31m---------------------------------------------------------------------------\u001b[0m",
      "\u001b[1;31mAttributeError\u001b[0m                            Traceback (most recent call last)",
      "\u001b[1;32m<ipython-input-1-923561c15193>\u001b[0m in \u001b[0;36m<lambda>\u001b[1;34m(new_coeff)\u001b[0m\n\u001b[0;32m     64\u001b[0m     lambda new_coeff : det.processors [\"basket\"] [\"inrange rgb\"].set_den_low(new_coeff//100))\n\u001b[0;32m     65\u001b[0m cv2.createTrackbar (\"den_high\", \"trackbars\", den[1], 100, \n\u001b[1;32m---> 66\u001b[1;33m     lambda new_coeff : det.processors [\"basket\"] [\"inrange rgb\"].set_den_high(new_coeff//100))\n\u001b[0m\u001b[0;32m     67\u001b[0m \u001b[1;33m\u001b[0m\u001b[0m\n\u001b[0;32m     68\u001b[0m \u001b[1;33m\u001b[0m\u001b[0m\n",
      "\u001b[1;31mAttributeError\u001b[0m: 'inrange' object has no attribute 'set_den_high'"
     ]
    },
    {
     "name": "stdout",
     "output_type": "stream",
     "text": [
      "(35, 15, 50) (60, 75, 135)\n"
     ]
    },
    {
     "ename": "AttributeError",
     "evalue": "'inrange' object has no attribute 'set_den_high'",
     "output_type": "error",
     "traceback": [
      "\u001b[1;31m---------------------------------------------------------------------------\u001b[0m",
      "\u001b[1;31mAttributeError\u001b[0m                            Traceback (most recent call last)",
      "\u001b[1;32m<ipython-input-1-923561c15193>\u001b[0m in \u001b[0;36m<lambda>\u001b[1;34m(new_coeff)\u001b[0m\n\u001b[0;32m     64\u001b[0m     lambda new_coeff : det.processors [\"basket\"] [\"inrange rgb\"].set_den_low(new_coeff//100))\n\u001b[0;32m     65\u001b[0m cv2.createTrackbar (\"den_high\", \"trackbars\", den[1], 100, \n\u001b[1;32m---> 66\u001b[1;33m     lambda new_coeff : det.processors [\"basket\"] [\"inrange rgb\"].set_den_high(new_coeff//100))\n\u001b[0m\u001b[0;32m     67\u001b[0m \u001b[1;33m\u001b[0m\u001b[0m\n\u001b[0;32m     68\u001b[0m \u001b[1;33m\u001b[0m\u001b[0m\n",
      "\u001b[1;31mAttributeError\u001b[0m: 'inrange' object has no attribute 'set_den_high'"
     ]
    },
    {
     "ename": "AttributeError",
     "evalue": "'inrange' object has no attribute 'set_den_high'",
     "output_type": "error",
     "traceback": [
      "\u001b[1;31m---------------------------------------------------------------------------\u001b[0m",
      "\u001b[1;31mAttributeError\u001b[0m                            Traceback (most recent call last)",
      "\u001b[1;32m<ipython-input-1-923561c15193>\u001b[0m in \u001b[0;36m<lambda>\u001b[1;34m(new_coeff)\u001b[0m\n\u001b[0;32m     64\u001b[0m     lambda new_coeff : det.processors [\"basket\"] [\"inrange rgb\"].set_den_low(new_coeff//100))\n\u001b[0;32m     65\u001b[0m cv2.createTrackbar (\"den_high\", \"trackbars\", den[1], 100, \n\u001b[1;32m---> 66\u001b[1;33m     lambda new_coeff : det.processors [\"basket\"] [\"inrange rgb\"].set_den_high(new_coeff//100))\n\u001b[0m\u001b[0;32m     67\u001b[0m \u001b[1;33m\u001b[0m\u001b[0m\n\u001b[0;32m     68\u001b[0m \u001b[1;33m\u001b[0m\u001b[0m\n",
      "\u001b[1;31mAttributeError\u001b[0m: 'inrange' object has no attribute 'set_den_high'"
     ]
    },
    {
     "name": "stdout",
     "output_type": "stream",
     "text": [
      "(35, 15, 50) (60, 75, 135)\n"
     ]
    },
    {
     "ename": "AttributeError",
     "evalue": "'inrange' object has no attribute 'set_den_high'",
     "output_type": "error",
     "traceback": [
      "\u001b[1;31m---------------------------------------------------------------------------\u001b[0m",
      "\u001b[1;31mAttributeError\u001b[0m                            Traceback (most recent call last)",
      "\u001b[1;32m<ipython-input-1-923561c15193>\u001b[0m in \u001b[0;36m<lambda>\u001b[1;34m(new_coeff)\u001b[0m\n\u001b[0;32m     64\u001b[0m     lambda new_coeff : det.processors [\"basket\"] [\"inrange rgb\"].set_den_low(new_coeff//100))\n\u001b[0;32m     65\u001b[0m cv2.createTrackbar (\"den_high\", \"trackbars\", den[1], 100, \n\u001b[1;32m---> 66\u001b[1;33m     lambda new_coeff : det.processors [\"basket\"] [\"inrange rgb\"].set_den_high(new_coeff//100))\n\u001b[0m\u001b[0;32m     67\u001b[0m \u001b[1;33m\u001b[0m\u001b[0m\n\u001b[0;32m     68\u001b[0m \u001b[1;33m\u001b[0m\u001b[0m\n",
      "\u001b[1;31mAttributeError\u001b[0m: 'inrange' object has no attribute 'set_den_high'"
     ]
    },
    {
     "name": "stdout",
     "output_type": "stream",
     "text": [
      "(35, 15, 50) (60, 75, 135)\n"
     ]
    },
    {
     "ename": "AttributeError",
     "evalue": "'inrange' object has no attribute 'set_den_high'",
     "output_type": "error",
     "traceback": [
      "\u001b[1;31m---------------------------------------------------------------------------\u001b[0m",
      "\u001b[1;31mAttributeError\u001b[0m                            Traceback (most recent call last)",
      "\u001b[1;32m<ipython-input-1-923561c15193>\u001b[0m in \u001b[0;36m<lambda>\u001b[1;34m(new_coeff)\u001b[0m\n\u001b[0;32m     64\u001b[0m     lambda new_coeff : det.processors [\"basket\"] [\"inrange rgb\"].set_den_low(new_coeff//100))\n\u001b[0;32m     65\u001b[0m cv2.createTrackbar (\"den_high\", \"trackbars\", den[1], 100, \n\u001b[1;32m---> 66\u001b[1;33m     lambda new_coeff : det.processors [\"basket\"] [\"inrange rgb\"].set_den_high(new_coeff//100))\n\u001b[0m\u001b[0;32m     67\u001b[0m \u001b[1;33m\u001b[0m\u001b[0m\n\u001b[0;32m     68\u001b[0m \u001b[1;33m\u001b[0m\u001b[0m\n",
      "\u001b[1;31mAttributeError\u001b[0m: 'inrange' object has no attribute 'set_den_high'"
     ]
    },
    {
     "ename": "AttributeError",
     "evalue": "'inrange' object has no attribute 'set_den_high'",
     "output_type": "error",
     "traceback": [
      "\u001b[1;31m---------------------------------------------------------------------------\u001b[0m",
      "\u001b[1;31mAttributeError\u001b[0m                            Traceback (most recent call last)",
      "\u001b[1;32m<ipython-input-1-923561c15193>\u001b[0m in \u001b[0;36m<lambda>\u001b[1;34m(new_coeff)\u001b[0m\n\u001b[0;32m     64\u001b[0m     lambda new_coeff : det.processors [\"basket\"] [\"inrange rgb\"].set_den_low(new_coeff//100))\n\u001b[0;32m     65\u001b[0m cv2.createTrackbar (\"den_high\", \"trackbars\", den[1], 100, \n\u001b[1;32m---> 66\u001b[1;33m     lambda new_coeff : det.processors [\"basket\"] [\"inrange rgb\"].set_den_high(new_coeff//100))\n\u001b[0m\u001b[0;32m     67\u001b[0m \u001b[1;33m\u001b[0m\u001b[0m\n\u001b[0;32m     68\u001b[0m \u001b[1;33m\u001b[0m\u001b[0m\n",
      "\u001b[1;31mAttributeError\u001b[0m: 'inrange' object has no attribute 'set_den_high'"
     ]
    },
    {
     "name": "stdout",
     "output_type": "stream",
     "text": [
      "(35, 15, 50) (60, 75, 135)\n"
     ]
    },
    {
     "ename": "AttributeError",
     "evalue": "'inrange' object has no attribute 'set_den_high'",
     "output_type": "error",
     "traceback": [
      "\u001b[1;31m---------------------------------------------------------------------------\u001b[0m",
      "\u001b[1;31mAttributeError\u001b[0m                            Traceback (most recent call last)",
      "\u001b[1;32m<ipython-input-1-923561c15193>\u001b[0m in \u001b[0;36m<lambda>\u001b[1;34m(new_coeff)\u001b[0m\n\u001b[0;32m     64\u001b[0m     lambda new_coeff : det.processors [\"basket\"] [\"inrange rgb\"].set_den_low(new_coeff//100))\n\u001b[0;32m     65\u001b[0m cv2.createTrackbar (\"den_high\", \"trackbars\", den[1], 100, \n\u001b[1;32m---> 66\u001b[1;33m     lambda new_coeff : det.processors [\"basket\"] [\"inrange rgb\"].set_den_high(new_coeff//100))\n\u001b[0m\u001b[0;32m     67\u001b[0m \u001b[1;33m\u001b[0m\u001b[0m\n\u001b[0;32m     68\u001b[0m \u001b[1;33m\u001b[0m\u001b[0m\n",
      "\u001b[1;31mAttributeError\u001b[0m: 'inrange' object has no attribute 'set_den_high'"
     ]
    },
    {
     "name": "stdout",
     "output_type": "stream",
     "text": [
      "(35, 15, 50) (60, 75, 135)\n"
     ]
    },
    {
     "ename": "AttributeError",
     "evalue": "'inrange' object has no attribute 'set_den_high'",
     "output_type": "error",
     "traceback": [
      "\u001b[1;31m---------------------------------------------------------------------------\u001b[0m",
      "\u001b[1;31mAttributeError\u001b[0m                            Traceback (most recent call last)",
      "\u001b[1;32m<ipython-input-1-923561c15193>\u001b[0m in \u001b[0;36m<lambda>\u001b[1;34m(new_coeff)\u001b[0m\n\u001b[0;32m     64\u001b[0m     lambda new_coeff : det.processors [\"basket\"] [\"inrange rgb\"].set_den_low(new_coeff//100))\n\u001b[0;32m     65\u001b[0m cv2.createTrackbar (\"den_high\", \"trackbars\", den[1], 100, \n\u001b[1;32m---> 66\u001b[1;33m     lambda new_coeff : det.processors [\"basket\"] [\"inrange rgb\"].set_den_high(new_coeff//100))\n\u001b[0m\u001b[0;32m     67\u001b[0m \u001b[1;33m\u001b[0m\u001b[0m\n\u001b[0;32m     68\u001b[0m \u001b[1;33m\u001b[0m\u001b[0m\n",
      "\u001b[1;31mAttributeError\u001b[0m: 'inrange' object has no attribute 'set_den_high'"
     ]
    },
    {
     "name": "stdout",
     "output_type": "stream",
     "text": [
      "(35, 15, 50) (60, 75, 135)\n",
      "(35, 15, 50) (60, 75, 135)\n"
     ]
    },
    {
     "ename": "AttributeError",
     "evalue": "'inrange' object has no attribute 'set_den_high'",
     "output_type": "error",
     "traceback": [
      "\u001b[1;31m---------------------------------------------------------------------------\u001b[0m",
      "\u001b[1;31mAttributeError\u001b[0m                            Traceback (most recent call last)",
      "\u001b[1;32m<ipython-input-1-923561c15193>\u001b[0m in \u001b[0;36m<lambda>\u001b[1;34m(new_coeff)\u001b[0m\n\u001b[0;32m     64\u001b[0m     lambda new_coeff : det.processors [\"basket\"] [\"inrange rgb\"].set_den_low(new_coeff//100))\n\u001b[0;32m     65\u001b[0m cv2.createTrackbar (\"den_high\", \"trackbars\", den[1], 100, \n\u001b[1;32m---> 66\u001b[1;33m     lambda new_coeff : det.processors [\"basket\"] [\"inrange rgb\"].set_den_high(new_coeff//100))\n\u001b[0m\u001b[0;32m     67\u001b[0m \u001b[1;33m\u001b[0m\u001b[0m\n\u001b[0;32m     68\u001b[0m \u001b[1;33m\u001b[0m\u001b[0m\n",
      "\u001b[1;31mAttributeError\u001b[0m: 'inrange' object has no attribute 'set_den_high'"
     ]
    },
    {
     "name": "stdout",
     "output_type": "stream",
     "text": [
      "(35, 15, 50) (60, 75, 135)\n"
     ]
    },
    {
     "ename": "AttributeError",
     "evalue": "'inrange' object has no attribute 'set_den_high'",
     "output_type": "error",
     "traceback": [
      "\u001b[1;31m---------------------------------------------------------------------------\u001b[0m",
      "\u001b[1;31mAttributeError\u001b[0m                            Traceback (most recent call last)",
      "\u001b[1;32m<ipython-input-1-923561c15193>\u001b[0m in \u001b[0;36m<lambda>\u001b[1;34m(new_coeff)\u001b[0m\n\u001b[0;32m     64\u001b[0m     lambda new_coeff : det.processors [\"basket\"] [\"inrange rgb\"].set_den_low(new_coeff//100))\n\u001b[0;32m     65\u001b[0m cv2.createTrackbar (\"den_high\", \"trackbars\", den[1], 100, \n\u001b[1;32m---> 66\u001b[1;33m     lambda new_coeff : det.processors [\"basket\"] [\"inrange rgb\"].set_den_high(new_coeff//100))\n\u001b[0m\u001b[0;32m     67\u001b[0m \u001b[1;33m\u001b[0m\u001b[0m\n\u001b[0;32m     68\u001b[0m \u001b[1;33m\u001b[0m\u001b[0m\n",
      "\u001b[1;31mAttributeError\u001b[0m: 'inrange' object has no attribute 'set_den_high'"
     ]
    },
    {
     "ename": "AttributeError",
     "evalue": "'inrange' object has no attribute 'set_den_high'",
     "output_type": "error",
     "traceback": [
      "\u001b[1;31m---------------------------------------------------------------------------\u001b[0m",
      "\u001b[1;31mAttributeError\u001b[0m                            Traceback (most recent call last)",
      "\u001b[1;32m<ipython-input-1-923561c15193>\u001b[0m in \u001b[0;36m<lambda>\u001b[1;34m(new_coeff)\u001b[0m\n\u001b[0;32m     64\u001b[0m     lambda new_coeff : det.processors [\"basket\"] [\"inrange rgb\"].set_den_low(new_coeff//100))\n\u001b[0;32m     65\u001b[0m cv2.createTrackbar (\"den_high\", \"trackbars\", den[1], 100, \n\u001b[1;32m---> 66\u001b[1;33m     lambda new_coeff : det.processors [\"basket\"] [\"inrange rgb\"].set_den_high(new_coeff//100))\n\u001b[0m\u001b[0;32m     67\u001b[0m \u001b[1;33m\u001b[0m\u001b[0m\n\u001b[0;32m     68\u001b[0m \u001b[1;33m\u001b[0m\u001b[0m\n",
      "\u001b[1;31mAttributeError\u001b[0m: 'inrange' object has no attribute 'set_den_high'"
     ]
    },
    {
     "ename": "AttributeError",
     "evalue": "'inrange' object has no attribute 'set_den_high'",
     "output_type": "error",
     "traceback": [
      "\u001b[1;31m---------------------------------------------------------------------------\u001b[0m",
      "\u001b[1;31mAttributeError\u001b[0m                            Traceback (most recent call last)",
      "\u001b[1;32m<ipython-input-1-923561c15193>\u001b[0m in \u001b[0;36m<lambda>\u001b[1;34m(new_coeff)\u001b[0m\n\u001b[0;32m     64\u001b[0m     lambda new_coeff : det.processors [\"basket\"] [\"inrange rgb\"].set_den_low(new_coeff//100))\n\u001b[0;32m     65\u001b[0m cv2.createTrackbar (\"den_high\", \"trackbars\", den[1], 100, \n\u001b[1;32m---> 66\u001b[1;33m     lambda new_coeff : det.processors [\"basket\"] [\"inrange rgb\"].set_den_high(new_coeff//100))\n\u001b[0m\u001b[0;32m     67\u001b[0m \u001b[1;33m\u001b[0m\u001b[0m\n\u001b[0;32m     68\u001b[0m \u001b[1;33m\u001b[0m\u001b[0m\n",
      "\u001b[1;31mAttributeError\u001b[0m: 'inrange' object has no attribute 'set_den_high'"
     ]
    },
    {
     "ename": "AttributeError",
     "evalue": "'inrange' object has no attribute 'set_den_high'",
     "output_type": "error",
     "traceback": [
      "\u001b[1;31m---------------------------------------------------------------------------\u001b[0m",
      "\u001b[1;31mAttributeError\u001b[0m                            Traceback (most recent call last)",
      "\u001b[1;32m<ipython-input-1-923561c15193>\u001b[0m in \u001b[0;36m<lambda>\u001b[1;34m(new_coeff)\u001b[0m\n\u001b[0;32m     64\u001b[0m     lambda new_coeff : det.processors [\"basket\"] [\"inrange rgb\"].set_den_low(new_coeff//100))\n\u001b[0;32m     65\u001b[0m cv2.createTrackbar (\"den_high\", \"trackbars\", den[1], 100, \n\u001b[1;32m---> 66\u001b[1;33m     lambda new_coeff : det.processors [\"basket\"] [\"inrange rgb\"].set_den_high(new_coeff//100))\n\u001b[0m\u001b[0;32m     67\u001b[0m \u001b[1;33m\u001b[0m\u001b[0m\n\u001b[0;32m     68\u001b[0m \u001b[1;33m\u001b[0m\u001b[0m\n",
      "\u001b[1;31mAttributeError\u001b[0m: 'inrange' object has no attribute 'set_den_high'"
     ]
    },
    {
     "name": "stdout",
     "output_type": "stream",
     "text": [
      "(35, 15, 50) (60, 75, 135)\n"
     ]
    },
    {
     "ename": "AttributeError",
     "evalue": "'inrange' object has no attribute 'set_den_high'",
     "output_type": "error",
     "traceback": [
      "\u001b[1;31m---------------------------------------------------------------------------\u001b[0m",
      "\u001b[1;31mAttributeError\u001b[0m                            Traceback (most recent call last)",
      "\u001b[1;32m<ipython-input-1-923561c15193>\u001b[0m in \u001b[0;36m<lambda>\u001b[1;34m(new_coeff)\u001b[0m\n\u001b[0;32m     64\u001b[0m     lambda new_coeff : det.processors [\"basket\"] [\"inrange rgb\"].set_den_low(new_coeff//100))\n\u001b[0;32m     65\u001b[0m cv2.createTrackbar (\"den_high\", \"trackbars\", den[1], 100, \n\u001b[1;32m---> 66\u001b[1;33m     lambda new_coeff : det.processors [\"basket\"] [\"inrange rgb\"].set_den_high(new_coeff//100))\n\u001b[0m\u001b[0;32m     67\u001b[0m \u001b[1;33m\u001b[0m\u001b[0m\n\u001b[0;32m     68\u001b[0m \u001b[1;33m\u001b[0m\u001b[0m\n",
      "\u001b[1;31mAttributeError\u001b[0m: 'inrange' object has no attribute 'set_den_high'"
     ]
    },
    {
     "ename": "AttributeError",
     "evalue": "'inrange' object has no attribute 'set_den_high'",
     "output_type": "error",
     "traceback": [
      "\u001b[1;31m---------------------------------------------------------------------------\u001b[0m",
      "\u001b[1;31mAttributeError\u001b[0m                            Traceback (most recent call last)",
      "\u001b[1;32m<ipython-input-1-923561c15193>\u001b[0m in \u001b[0;36m<lambda>\u001b[1;34m(new_coeff)\u001b[0m\n\u001b[0;32m     64\u001b[0m     lambda new_coeff : det.processors [\"basket\"] [\"inrange rgb\"].set_den_low(new_coeff//100))\n\u001b[0;32m     65\u001b[0m cv2.createTrackbar (\"den_high\", \"trackbars\", den[1], 100, \n\u001b[1;32m---> 66\u001b[1;33m     lambda new_coeff : det.processors [\"basket\"] [\"inrange rgb\"].set_den_high(new_coeff//100))\n\u001b[0m\u001b[0;32m     67\u001b[0m \u001b[1;33m\u001b[0m\u001b[0m\n\u001b[0;32m     68\u001b[0m \u001b[1;33m\u001b[0m\u001b[0m\n",
      "\u001b[1;31mAttributeError\u001b[0m: 'inrange' object has no attribute 'set_den_high'"
     ]
    },
    {
     "ename": "AttributeError",
     "evalue": "'inrange' object has no attribute 'set_den_high'",
     "output_type": "error",
     "traceback": [
      "\u001b[1;31m---------------------------------------------------------------------------\u001b[0m",
      "\u001b[1;31mAttributeError\u001b[0m                            Traceback (most recent call last)",
      "\u001b[1;32m<ipython-input-1-923561c15193>\u001b[0m in \u001b[0;36m<lambda>\u001b[1;34m(new_coeff)\u001b[0m\n\u001b[0;32m     64\u001b[0m     lambda new_coeff : det.processors [\"basket\"] [\"inrange rgb\"].set_den_low(new_coeff//100))\n\u001b[0;32m     65\u001b[0m cv2.createTrackbar (\"den_high\", \"trackbars\", den[1], 100, \n\u001b[1;32m---> 66\u001b[1;33m     lambda new_coeff : det.processors [\"basket\"] [\"inrange rgb\"].set_den_high(new_coeff//100))\n\u001b[0m\u001b[0;32m     67\u001b[0m \u001b[1;33m\u001b[0m\u001b[0m\n\u001b[0;32m     68\u001b[0m \u001b[1;33m\u001b[0m\u001b[0m\n",
      "\u001b[1;31mAttributeError\u001b[0m: 'inrange' object has no attribute 'set_den_high'"
     ]
    },
    {
     "name": "stdout",
     "output_type": "stream",
     "text": [
      "(35, 15, 50) (60, 75, 135)\n"
     ]
    },
    {
     "ename": "AttributeError",
     "evalue": "'inrange' object has no attribute 'set_den_high'",
     "output_type": "error",
     "traceback": [
      "\u001b[1;31m---------------------------------------------------------------------------\u001b[0m",
      "\u001b[1;31mAttributeError\u001b[0m                            Traceback (most recent call last)",
      "\u001b[1;32m<ipython-input-1-923561c15193>\u001b[0m in \u001b[0;36m<lambda>\u001b[1;34m(new_coeff)\u001b[0m\n\u001b[0;32m     64\u001b[0m     lambda new_coeff : det.processors [\"basket\"] [\"inrange rgb\"].set_den_low(new_coeff//100))\n\u001b[0;32m     65\u001b[0m cv2.createTrackbar (\"den_high\", \"trackbars\", den[1], 100, \n\u001b[1;32m---> 66\u001b[1;33m     lambda new_coeff : det.processors [\"basket\"] [\"inrange rgb\"].set_den_high(new_coeff//100))\n\u001b[0m\u001b[0;32m     67\u001b[0m \u001b[1;33m\u001b[0m\u001b[0m\n\u001b[0;32m     68\u001b[0m \u001b[1;33m\u001b[0m\u001b[0m\n",
      "\u001b[1;31mAttributeError\u001b[0m: 'inrange' object has no attribute 'set_den_high'"
     ]
    },
    {
     "name": "stdout",
     "output_type": "stream",
     "text": [
      "(35, 15, 50) (60, 75, 135)\n",
      "(35, 15, 50) (60, 75, 135)\n"
     ]
    },
    {
     "ename": "AttributeError",
     "evalue": "'inrange' object has no attribute 'set_den_high'",
     "output_type": "error",
     "traceback": [
      "\u001b[1;31m---------------------------------------------------------------------------\u001b[0m",
      "\u001b[1;31mAttributeError\u001b[0m                            Traceback (most recent call last)",
      "\u001b[1;32m<ipython-input-1-923561c15193>\u001b[0m in \u001b[0;36m<lambda>\u001b[1;34m(new_coeff)\u001b[0m\n\u001b[0;32m     64\u001b[0m     lambda new_coeff : det.processors [\"basket\"] [\"inrange rgb\"].set_den_low(new_coeff//100))\n\u001b[0;32m     65\u001b[0m cv2.createTrackbar (\"den_high\", \"trackbars\", den[1], 100, \n\u001b[1;32m---> 66\u001b[1;33m     lambda new_coeff : det.processors [\"basket\"] [\"inrange rgb\"].set_den_high(new_coeff//100))\n\u001b[0m\u001b[0;32m     67\u001b[0m \u001b[1;33m\u001b[0m\u001b[0m\n\u001b[0;32m     68\u001b[0m \u001b[1;33m\u001b[0m\u001b[0m\n",
      "\u001b[1;31mAttributeError\u001b[0m: 'inrange' object has no attribute 'set_den_high'"
     ]
    },
    {
     "name": "stdout",
     "output_type": "stream",
     "text": [
      "(35, 15, 50) (60, 75, 135)\n"
     ]
    },
    {
     "ename": "AttributeError",
     "evalue": "'inrange' object has no attribute 'set_den_high'",
     "output_type": "error",
     "traceback": [
      "\u001b[1;31m---------------------------------------------------------------------------\u001b[0m",
      "\u001b[1;31mAttributeError\u001b[0m                            Traceback (most recent call last)",
      "\u001b[1;32m<ipython-input-1-923561c15193>\u001b[0m in \u001b[0;36m<lambda>\u001b[1;34m(new_coeff)\u001b[0m\n\u001b[0;32m     64\u001b[0m     lambda new_coeff : det.processors [\"basket\"] [\"inrange rgb\"].set_den_low(new_coeff//100))\n\u001b[0;32m     65\u001b[0m cv2.createTrackbar (\"den_high\", \"trackbars\", den[1], 100, \n\u001b[1;32m---> 66\u001b[1;33m     lambda new_coeff : det.processors [\"basket\"] [\"inrange rgb\"].set_den_high(new_coeff//100))\n\u001b[0m\u001b[0;32m     67\u001b[0m \u001b[1;33m\u001b[0m\u001b[0m\n\u001b[0;32m     68\u001b[0m \u001b[1;33m\u001b[0m\u001b[0m\n",
      "\u001b[1;31mAttributeError\u001b[0m: 'inrange' object has no attribute 'set_den_high'"
     ]
    },
    {
     "name": "stdout",
     "output_type": "stream",
     "text": [
      "(35, 15, 50) (60, 75, 135)\n"
     ]
    },
    {
     "ename": "AttributeError",
     "evalue": "'inrange' object has no attribute 'set_den_high'",
     "output_type": "error",
     "traceback": [
      "\u001b[1;31m---------------------------------------------------------------------------\u001b[0m",
      "\u001b[1;31mAttributeError\u001b[0m                            Traceback (most recent call last)",
      "\u001b[1;32m<ipython-input-1-923561c15193>\u001b[0m in \u001b[0;36m<lambda>\u001b[1;34m(new_coeff)\u001b[0m\n\u001b[0;32m     64\u001b[0m     lambda new_coeff : det.processors [\"basket\"] [\"inrange rgb\"].set_den_low(new_coeff//100))\n\u001b[0;32m     65\u001b[0m cv2.createTrackbar (\"den_high\", \"trackbars\", den[1], 100, \n\u001b[1;32m---> 66\u001b[1;33m     lambda new_coeff : det.processors [\"basket\"] [\"inrange rgb\"].set_den_high(new_coeff//100))\n\u001b[0m\u001b[0;32m     67\u001b[0m \u001b[1;33m\u001b[0m\u001b[0m\n\u001b[0;32m     68\u001b[0m \u001b[1;33m\u001b[0m\u001b[0m\n",
      "\u001b[1;31mAttributeError\u001b[0m: 'inrange' object has no attribute 'set_den_high'"
     ]
    },
    {
     "ename": "AttributeError",
     "evalue": "'inrange' object has no attribute 'set_den_high'",
     "output_type": "error",
     "traceback": [
      "\u001b[1;31m---------------------------------------------------------------------------\u001b[0m",
      "\u001b[1;31mAttributeError\u001b[0m                            Traceback (most recent call last)",
      "\u001b[1;32m<ipython-input-1-923561c15193>\u001b[0m in \u001b[0;36m<lambda>\u001b[1;34m(new_coeff)\u001b[0m\n\u001b[0;32m     64\u001b[0m     lambda new_coeff : det.processors [\"basket\"] [\"inrange rgb\"].set_den_low(new_coeff//100))\n\u001b[0;32m     65\u001b[0m cv2.createTrackbar (\"den_high\", \"trackbars\", den[1], 100, \n\u001b[1;32m---> 66\u001b[1;33m     lambda new_coeff : det.processors [\"basket\"] [\"inrange rgb\"].set_den_high(new_coeff//100))\n\u001b[0m\u001b[0;32m     67\u001b[0m \u001b[1;33m\u001b[0m\u001b[0m\n\u001b[0;32m     68\u001b[0m \u001b[1;33m\u001b[0m\u001b[0m\n",
      "\u001b[1;31mAttributeError\u001b[0m: 'inrange' object has no attribute 'set_den_high'"
     ]
    },
    {
     "ename": "AttributeError",
     "evalue": "'inrange' object has no attribute 'set_den_high'",
     "output_type": "error",
     "traceback": [
      "\u001b[1;31m---------------------------------------------------------------------------\u001b[0m",
      "\u001b[1;31mAttributeError\u001b[0m                            Traceback (most recent call last)",
      "\u001b[1;32m<ipython-input-1-923561c15193>\u001b[0m in \u001b[0;36m<lambda>\u001b[1;34m(new_coeff)\u001b[0m\n\u001b[0;32m     64\u001b[0m     lambda new_coeff : det.processors [\"basket\"] [\"inrange rgb\"].set_den_low(new_coeff//100))\n\u001b[0;32m     65\u001b[0m cv2.createTrackbar (\"den_high\", \"trackbars\", den[1], 100, \n\u001b[1;32m---> 66\u001b[1;33m     lambda new_coeff : det.processors [\"basket\"] [\"inrange rgb\"].set_den_high(new_coeff//100))\n\u001b[0m\u001b[0;32m     67\u001b[0m \u001b[1;33m\u001b[0m\u001b[0m\n\u001b[0;32m     68\u001b[0m \u001b[1;33m\u001b[0m\u001b[0m\n",
      "\u001b[1;31mAttributeError\u001b[0m: 'inrange' object has no attribute 'set_den_high'"
     ]
    },
    {
     "ename": "AttributeError",
     "evalue": "'inrange' object has no attribute 'set_den_high'",
     "output_type": "error",
     "traceback": [
      "\u001b[1;31m---------------------------------------------------------------------------\u001b[0m",
      "\u001b[1;31mAttributeError\u001b[0m                            Traceback (most recent call last)",
      "\u001b[1;32m<ipython-input-1-923561c15193>\u001b[0m in \u001b[0;36m<lambda>\u001b[1;34m(new_coeff)\u001b[0m\n\u001b[0;32m     64\u001b[0m     lambda new_coeff : det.processors [\"basket\"] [\"inrange rgb\"].set_den_low(new_coeff//100))\n\u001b[0;32m     65\u001b[0m cv2.createTrackbar (\"den_high\", \"trackbars\", den[1], 100, \n\u001b[1;32m---> 66\u001b[1;33m     lambda new_coeff : det.processors [\"basket\"] [\"inrange rgb\"].set_den_high(new_coeff//100))\n\u001b[0m\u001b[0;32m     67\u001b[0m \u001b[1;33m\u001b[0m\u001b[0m\n\u001b[0;32m     68\u001b[0m \u001b[1;33m\u001b[0m\u001b[0m\n",
      "\u001b[1;31mAttributeError\u001b[0m: 'inrange' object has no attribute 'set_den_high'"
     ]
    },
    {
     "ename": "AttributeError",
     "evalue": "'inrange' object has no attribute 'set_den_high'",
     "output_type": "error",
     "traceback": [
      "\u001b[1;31m---------------------------------------------------------------------------\u001b[0m",
      "\u001b[1;31mAttributeError\u001b[0m                            Traceback (most recent call last)",
      "\u001b[1;32m<ipython-input-1-923561c15193>\u001b[0m in \u001b[0;36m<lambda>\u001b[1;34m(new_coeff)\u001b[0m\n\u001b[0;32m     64\u001b[0m     lambda new_coeff : det.processors [\"basket\"] [\"inrange rgb\"].set_den_low(new_coeff//100))\n\u001b[0;32m     65\u001b[0m cv2.createTrackbar (\"den_high\", \"trackbars\", den[1], 100, \n\u001b[1;32m---> 66\u001b[1;33m     lambda new_coeff : det.processors [\"basket\"] [\"inrange rgb\"].set_den_high(new_coeff//100))\n\u001b[0m\u001b[0;32m     67\u001b[0m \u001b[1;33m\u001b[0m\u001b[0m\n\u001b[0;32m     68\u001b[0m \u001b[1;33m\u001b[0m\u001b[0m\n",
      "\u001b[1;31mAttributeError\u001b[0m: 'inrange' object has no attribute 'set_den_high'"
     ]
    },
    {
     "ename": "AttributeError",
     "evalue": "'inrange' object has no attribute 'set_den_high'",
     "output_type": "error",
     "traceback": [
      "\u001b[1;31m---------------------------------------------------------------------------\u001b[0m",
      "\u001b[1;31mAttributeError\u001b[0m                            Traceback (most recent call last)",
      "\u001b[1;32m<ipython-input-1-923561c15193>\u001b[0m in \u001b[0;36m<lambda>\u001b[1;34m(new_coeff)\u001b[0m\n\u001b[0;32m     64\u001b[0m     lambda new_coeff : det.processors [\"basket\"] [\"inrange rgb\"].set_den_low(new_coeff//100))\n\u001b[0;32m     65\u001b[0m cv2.createTrackbar (\"den_high\", \"trackbars\", den[1], 100, \n\u001b[1;32m---> 66\u001b[1;33m     lambda new_coeff : det.processors [\"basket\"] [\"inrange rgb\"].set_den_high(new_coeff//100))\n\u001b[0m\u001b[0;32m     67\u001b[0m \u001b[1;33m\u001b[0m\u001b[0m\n\u001b[0;32m     68\u001b[0m \u001b[1;33m\u001b[0m\u001b[0m\n",
      "\u001b[1;31mAttributeError\u001b[0m: 'inrange' object has no attribute 'set_den_high'"
     ]
    },
    {
     "name": "stdout",
     "output_type": "stream",
     "text": [
      "(35, 15, 50) (60, 75, 135)\n"
     ]
    },
    {
     "ename": "AttributeError",
     "evalue": "'inrange' object has no attribute 'set_den_high'",
     "output_type": "error",
     "traceback": [
      "\u001b[1;31m---------------------------------------------------------------------------\u001b[0m",
      "\u001b[1;31mAttributeError\u001b[0m                            Traceback (most recent call last)",
      "\u001b[1;32m<ipython-input-1-923561c15193>\u001b[0m in \u001b[0;36m<lambda>\u001b[1;34m(new_coeff)\u001b[0m\n\u001b[0;32m     64\u001b[0m     lambda new_coeff : det.processors [\"basket\"] [\"inrange rgb\"].set_den_low(new_coeff//100))\n\u001b[0;32m     65\u001b[0m cv2.createTrackbar (\"den_high\", \"trackbars\", den[1], 100, \n\u001b[1;32m---> 66\u001b[1;33m     lambda new_coeff : det.processors [\"basket\"] [\"inrange rgb\"].set_den_high(new_coeff//100))\n\u001b[0m\u001b[0;32m     67\u001b[0m \u001b[1;33m\u001b[0m\u001b[0m\n\u001b[0;32m     68\u001b[0m \u001b[1;33m\u001b[0m\u001b[0m\n",
      "\u001b[1;31mAttributeError\u001b[0m: 'inrange' object has no attribute 'set_den_high'"
     ]
    },
    {
     "ename": "AttributeError",
     "evalue": "'inrange' object has no attribute 'set_den_high'",
     "output_type": "error",
     "traceback": [
      "\u001b[1;31m---------------------------------------------------------------------------\u001b[0m",
      "\u001b[1;31mAttributeError\u001b[0m                            Traceback (most recent call last)",
      "\u001b[1;32m<ipython-input-1-923561c15193>\u001b[0m in \u001b[0;36m<lambda>\u001b[1;34m(new_coeff)\u001b[0m\n\u001b[0;32m     64\u001b[0m     lambda new_coeff : det.processors [\"basket\"] [\"inrange rgb\"].set_den_low(new_coeff//100))\n\u001b[0;32m     65\u001b[0m cv2.createTrackbar (\"den_high\", \"trackbars\", den[1], 100, \n\u001b[1;32m---> 66\u001b[1;33m     lambda new_coeff : det.processors [\"basket\"] [\"inrange rgb\"].set_den_high(new_coeff//100))\n\u001b[0m\u001b[0;32m     67\u001b[0m \u001b[1;33m\u001b[0m\u001b[0m\n\u001b[0;32m     68\u001b[0m \u001b[1;33m\u001b[0m\u001b[0m\n",
      "\u001b[1;31mAttributeError\u001b[0m: 'inrange' object has no attribute 'set_den_high'"
     ]
    },
    {
     "ename": "AttributeError",
     "evalue": "'inrange' object has no attribute 'set_den_high'",
     "output_type": "error",
     "traceback": [
      "\u001b[1;31m---------------------------------------------------------------------------\u001b[0m",
      "\u001b[1;31mAttributeError\u001b[0m                            Traceback (most recent call last)",
      "\u001b[1;32m<ipython-input-1-923561c15193>\u001b[0m in \u001b[0;36m<lambda>\u001b[1;34m(new_coeff)\u001b[0m\n\u001b[0;32m     64\u001b[0m     lambda new_coeff : det.processors [\"basket\"] [\"inrange rgb\"].set_den_low(new_coeff//100))\n\u001b[0;32m     65\u001b[0m cv2.createTrackbar (\"den_high\", \"trackbars\", den[1], 100, \n\u001b[1;32m---> 66\u001b[1;33m     lambda new_coeff : det.processors [\"basket\"] [\"inrange rgb\"].set_den_high(new_coeff//100))\n\u001b[0m\u001b[0;32m     67\u001b[0m \u001b[1;33m\u001b[0m\u001b[0m\n\u001b[0;32m     68\u001b[0m \u001b[1;33m\u001b[0m\u001b[0m\n",
      "\u001b[1;31mAttributeError\u001b[0m: 'inrange' object has no attribute 'set_den_high'"
     ]
    },
    {
     "ename": "AttributeError",
     "evalue": "'inrange' object has no attribute 'set_den_high'",
     "output_type": "error",
     "traceback": [
      "\u001b[1;31m---------------------------------------------------------------------------\u001b[0m",
      "\u001b[1;31mAttributeError\u001b[0m                            Traceback (most recent call last)",
      "\u001b[1;32m<ipython-input-1-923561c15193>\u001b[0m in \u001b[0;36m<lambda>\u001b[1;34m(new_coeff)\u001b[0m\n\u001b[0;32m     64\u001b[0m     lambda new_coeff : det.processors [\"basket\"] [\"inrange rgb\"].set_den_low(new_coeff//100))\n\u001b[0;32m     65\u001b[0m cv2.createTrackbar (\"den_high\", \"trackbars\", den[1], 100, \n\u001b[1;32m---> 66\u001b[1;33m     lambda new_coeff : det.processors [\"basket\"] [\"inrange rgb\"].set_den_high(new_coeff//100))\n\u001b[0m\u001b[0;32m     67\u001b[0m \u001b[1;33m\u001b[0m\u001b[0m\n\u001b[0;32m     68\u001b[0m \u001b[1;33m\u001b[0m\u001b[0m\n",
      "\u001b[1;31mAttributeError\u001b[0m: 'inrange' object has no attribute 'set_den_high'"
     ]
    },
    {
     "name": "stdout",
     "output_type": "stream",
     "text": [
      "(35, 15, 50) (60, 75, 135)\n"
     ]
    },
    {
     "ename": "AttributeError",
     "evalue": "'inrange' object has no attribute 'set_den_high'",
     "output_type": "error",
     "traceback": [
      "\u001b[1;31m---------------------------------------------------------------------------\u001b[0m",
      "\u001b[1;31mAttributeError\u001b[0m                            Traceback (most recent call last)",
      "\u001b[1;32m<ipython-input-1-923561c15193>\u001b[0m in \u001b[0;36m<lambda>\u001b[1;34m(new_coeff)\u001b[0m\n\u001b[0;32m     64\u001b[0m     lambda new_coeff : det.processors [\"basket\"] [\"inrange rgb\"].set_den_low(new_coeff//100))\n\u001b[0;32m     65\u001b[0m cv2.createTrackbar (\"den_high\", \"trackbars\", den[1], 100, \n\u001b[1;32m---> 66\u001b[1;33m     lambda new_coeff : det.processors [\"basket\"] [\"inrange rgb\"].set_den_high(new_coeff//100))\n\u001b[0m\u001b[0;32m     67\u001b[0m \u001b[1;33m\u001b[0m\u001b[0m\n\u001b[0;32m     68\u001b[0m \u001b[1;33m\u001b[0m\u001b[0m\n",
      "\u001b[1;31mAttributeError\u001b[0m: 'inrange' object has no attribute 'set_den_high'"
     ]
    },
    {
     "name": "stdout",
     "output_type": "stream",
     "text": [
      "(35, 15, 50) (60, 75, 135)\n"
     ]
    },
    {
     "ename": "AttributeError",
     "evalue": "'inrange' object has no attribute 'set_den_high'",
     "output_type": "error",
     "traceback": [
      "\u001b[1;31m---------------------------------------------------------------------------\u001b[0m",
      "\u001b[1;31mAttributeError\u001b[0m                            Traceback (most recent call last)",
      "\u001b[1;32m<ipython-input-1-923561c15193>\u001b[0m in \u001b[0;36m<lambda>\u001b[1;34m(new_coeff)\u001b[0m\n\u001b[0;32m     64\u001b[0m     lambda new_coeff : det.processors [\"basket\"] [\"inrange rgb\"].set_den_low(new_coeff//100))\n\u001b[0;32m     65\u001b[0m cv2.createTrackbar (\"den_high\", \"trackbars\", den[1], 100, \n\u001b[1;32m---> 66\u001b[1;33m     lambda new_coeff : det.processors [\"basket\"] [\"inrange rgb\"].set_den_high(new_coeff//100))\n\u001b[0m\u001b[0;32m     67\u001b[0m \u001b[1;33m\u001b[0m\u001b[0m\n\u001b[0;32m     68\u001b[0m \u001b[1;33m\u001b[0m\u001b[0m\n",
      "\u001b[1;31mAttributeError\u001b[0m: 'inrange' object has no attribute 'set_den_high'"
     ]
    },
    {
     "ename": "AttributeError",
     "evalue": "'inrange' object has no attribute 'set_den_high'",
     "output_type": "error",
     "traceback": [
      "\u001b[1;31m---------------------------------------------------------------------------\u001b[0m",
      "\u001b[1;31mAttributeError\u001b[0m                            Traceback (most recent call last)",
      "\u001b[1;32m<ipython-input-1-923561c15193>\u001b[0m in \u001b[0;36m<lambda>\u001b[1;34m(new_coeff)\u001b[0m\n\u001b[0;32m     64\u001b[0m     lambda new_coeff : det.processors [\"basket\"] [\"inrange rgb\"].set_den_low(new_coeff//100))\n\u001b[0;32m     65\u001b[0m cv2.createTrackbar (\"den_high\", \"trackbars\", den[1], 100, \n\u001b[1;32m---> 66\u001b[1;33m     lambda new_coeff : det.processors [\"basket\"] [\"inrange rgb\"].set_den_high(new_coeff//100))\n\u001b[0m\u001b[0;32m     67\u001b[0m \u001b[1;33m\u001b[0m\u001b[0m\n\u001b[0;32m     68\u001b[0m \u001b[1;33m\u001b[0m\u001b[0m\n",
      "\u001b[1;31mAttributeError\u001b[0m: 'inrange' object has no attribute 'set_den_high'"
     ]
    },
    {
     "ename": "AttributeError",
     "evalue": "'inrange' object has no attribute 'set_den_high'",
     "output_type": "error",
     "traceback": [
      "\u001b[1;31m---------------------------------------------------------------------------\u001b[0m",
      "\u001b[1;31mAttributeError\u001b[0m                            Traceback (most recent call last)",
      "\u001b[1;32m<ipython-input-1-923561c15193>\u001b[0m in \u001b[0;36m<lambda>\u001b[1;34m(new_coeff)\u001b[0m\n\u001b[0;32m     64\u001b[0m     lambda new_coeff : det.processors [\"basket\"] [\"inrange rgb\"].set_den_low(new_coeff//100))\n\u001b[0;32m     65\u001b[0m cv2.createTrackbar (\"den_high\", \"trackbars\", den[1], 100, \n\u001b[1;32m---> 66\u001b[1;33m     lambda new_coeff : det.processors [\"basket\"] [\"inrange rgb\"].set_den_high(new_coeff//100))\n\u001b[0m\u001b[0;32m     67\u001b[0m \u001b[1;33m\u001b[0m\u001b[0m\n\u001b[0;32m     68\u001b[0m \u001b[1;33m\u001b[0m\u001b[0m\n",
      "\u001b[1;31mAttributeError\u001b[0m: 'inrange' object has no attribute 'set_den_high'"
     ]
    },
    {
     "ename": "AttributeError",
     "evalue": "'inrange' object has no attribute 'set_den_high'",
     "output_type": "error",
     "traceback": [
      "\u001b[1;31m---------------------------------------------------------------------------\u001b[0m",
      "\u001b[1;31mAttributeError\u001b[0m                            Traceback (most recent call last)",
      "\u001b[1;32m<ipython-input-1-923561c15193>\u001b[0m in \u001b[0;36m<lambda>\u001b[1;34m(new_coeff)\u001b[0m\n\u001b[0;32m     64\u001b[0m     lambda new_coeff : det.processors [\"basket\"] [\"inrange rgb\"].set_den_low(new_coeff//100))\n\u001b[0;32m     65\u001b[0m cv2.createTrackbar (\"den_high\", \"trackbars\", den[1], 100, \n\u001b[1;32m---> 66\u001b[1;33m     lambda new_coeff : det.processors [\"basket\"] [\"inrange rgb\"].set_den_high(new_coeff//100))\n\u001b[0m\u001b[0;32m     67\u001b[0m \u001b[1;33m\u001b[0m\u001b[0m\n\u001b[0;32m     68\u001b[0m \u001b[1;33m\u001b[0m\u001b[0m\n",
      "\u001b[1;31mAttributeError\u001b[0m: 'inrange' object has no attribute 'set_den_high'"
     ]
    },
    {
     "name": "stdout",
     "output_type": "stream",
     "text": [
      "(35, 15, 50) (60, 75, 135)\n"
     ]
    },
    {
     "ename": "AttributeError",
     "evalue": "'inrange' object has no attribute 'set_den_high'",
     "output_type": "error",
     "traceback": [
      "\u001b[1;31m---------------------------------------------------------------------------\u001b[0m",
      "\u001b[1;31mAttributeError\u001b[0m                            Traceback (most recent call last)",
      "\u001b[1;32m<ipython-input-1-923561c15193>\u001b[0m in \u001b[0;36m<lambda>\u001b[1;34m(new_coeff)\u001b[0m\n\u001b[0;32m     64\u001b[0m     lambda new_coeff : det.processors [\"basket\"] [\"inrange rgb\"].set_den_low(new_coeff//100))\n\u001b[0;32m     65\u001b[0m cv2.createTrackbar (\"den_high\", \"trackbars\", den[1], 100, \n\u001b[1;32m---> 66\u001b[1;33m     lambda new_coeff : det.processors [\"basket\"] [\"inrange rgb\"].set_den_high(new_coeff//100))\n\u001b[0m\u001b[0;32m     67\u001b[0m \u001b[1;33m\u001b[0m\u001b[0m\n\u001b[0;32m     68\u001b[0m \u001b[1;33m\u001b[0m\u001b[0m\n",
      "\u001b[1;31mAttributeError\u001b[0m: 'inrange' object has no attribute 'set_den_high'"
     ]
    },
    {
     "ename": "AttributeError",
     "evalue": "'inrange' object has no attribute 'set_den_high'",
     "output_type": "error",
     "traceback": [
      "\u001b[1;31m---------------------------------------------------------------------------\u001b[0m",
      "\u001b[1;31mAttributeError\u001b[0m                            Traceback (most recent call last)",
      "\u001b[1;32m<ipython-input-1-923561c15193>\u001b[0m in \u001b[0;36m<lambda>\u001b[1;34m(new_coeff)\u001b[0m\n\u001b[0;32m     64\u001b[0m     lambda new_coeff : det.processors [\"basket\"] [\"inrange rgb\"].set_den_low(new_coeff//100))\n\u001b[0;32m     65\u001b[0m cv2.createTrackbar (\"den_high\", \"trackbars\", den[1], 100, \n\u001b[1;32m---> 66\u001b[1;33m     lambda new_coeff : det.processors [\"basket\"] [\"inrange rgb\"].set_den_high(new_coeff//100))\n\u001b[0m\u001b[0;32m     67\u001b[0m \u001b[1;33m\u001b[0m\u001b[0m\n\u001b[0;32m     68\u001b[0m \u001b[1;33m\u001b[0m\u001b[0m\n",
      "\u001b[1;31mAttributeError\u001b[0m: 'inrange' object has no attribute 'set_den_high'"
     ]
    },
    {
     "ename": "AttributeError",
     "evalue": "'inrange' object has no attribute 'set_den_high'",
     "output_type": "error",
     "traceback": [
      "\u001b[1;31m---------------------------------------------------------------------------\u001b[0m",
      "\u001b[1;31mAttributeError\u001b[0m                            Traceback (most recent call last)",
      "\u001b[1;32m<ipython-input-1-923561c15193>\u001b[0m in \u001b[0;36m<lambda>\u001b[1;34m(new_coeff)\u001b[0m\n\u001b[0;32m     64\u001b[0m     lambda new_coeff : det.processors [\"basket\"] [\"inrange rgb\"].set_den_low(new_coeff//100))\n\u001b[0;32m     65\u001b[0m cv2.createTrackbar (\"den_high\", \"trackbars\", den[1], 100, \n\u001b[1;32m---> 66\u001b[1;33m     lambda new_coeff : det.processors [\"basket\"] [\"inrange rgb\"].set_den_high(new_coeff//100))\n\u001b[0m\u001b[0;32m     67\u001b[0m \u001b[1;33m\u001b[0m\u001b[0m\n\u001b[0;32m     68\u001b[0m \u001b[1;33m\u001b[0m\u001b[0m\n",
      "\u001b[1;31mAttributeError\u001b[0m: 'inrange' object has no attribute 'set_den_high'"
     ]
    },
    {
     "ename": "AttributeError",
     "evalue": "'inrange' object has no attribute 'set_den_high'",
     "output_type": "error",
     "traceback": [
      "\u001b[1;31m---------------------------------------------------------------------------\u001b[0m",
      "\u001b[1;31mAttributeError\u001b[0m                            Traceback (most recent call last)",
      "\u001b[1;32m<ipython-input-1-923561c15193>\u001b[0m in \u001b[0;36m<lambda>\u001b[1;34m(new_coeff)\u001b[0m\n\u001b[0;32m     64\u001b[0m     lambda new_coeff : det.processors [\"basket\"] [\"inrange rgb\"].set_den_low(new_coeff//100))\n\u001b[0;32m     65\u001b[0m cv2.createTrackbar (\"den_high\", \"trackbars\", den[1], 100, \n\u001b[1;32m---> 66\u001b[1;33m     lambda new_coeff : det.processors [\"basket\"] [\"inrange rgb\"].set_den_high(new_coeff//100))\n\u001b[0m\u001b[0;32m     67\u001b[0m \u001b[1;33m\u001b[0m\u001b[0m\n\u001b[0;32m     68\u001b[0m \u001b[1;33m\u001b[0m\u001b[0m\n",
      "\u001b[1;31mAttributeError\u001b[0m: 'inrange' object has no attribute 'set_den_high'"
     ]
    },
    {
     "ename": "AttributeError",
     "evalue": "'inrange' object has no attribute 'set_den_high'",
     "output_type": "error",
     "traceback": [
      "\u001b[1;31m---------------------------------------------------------------------------\u001b[0m",
      "\u001b[1;31mAttributeError\u001b[0m                            Traceback (most recent call last)",
      "\u001b[1;32m<ipython-input-1-923561c15193>\u001b[0m in \u001b[0;36m<lambda>\u001b[1;34m(new_coeff)\u001b[0m\n\u001b[0;32m     64\u001b[0m     lambda new_coeff : det.processors [\"basket\"] [\"inrange rgb\"].set_den_low(new_coeff//100))\n\u001b[0;32m     65\u001b[0m cv2.createTrackbar (\"den_high\", \"trackbars\", den[1], 100, \n\u001b[1;32m---> 66\u001b[1;33m     lambda new_coeff : det.processors [\"basket\"] [\"inrange rgb\"].set_den_high(new_coeff//100))\n\u001b[0m\u001b[0;32m     67\u001b[0m \u001b[1;33m\u001b[0m\u001b[0m\n\u001b[0;32m     68\u001b[0m \u001b[1;33m\u001b[0m\u001b[0m\n",
      "\u001b[1;31mAttributeError\u001b[0m: 'inrange' object has no attribute 'set_den_high'"
     ]
    },
    {
     "name": "stdout",
     "output_type": "stream",
     "text": [
      "(35, 15, 50) (60, 75, 135)\n"
     ]
    },
    {
     "ename": "AttributeError",
     "evalue": "'inrange' object has no attribute 'set_den_high'",
     "output_type": "error",
     "traceback": [
      "\u001b[1;31m---------------------------------------------------------------------------\u001b[0m",
      "\u001b[1;31mAttributeError\u001b[0m                            Traceback (most recent call last)",
      "\u001b[1;32m<ipython-input-1-923561c15193>\u001b[0m in \u001b[0;36m<lambda>\u001b[1;34m(new_coeff)\u001b[0m\n\u001b[0;32m     64\u001b[0m     lambda new_coeff : det.processors [\"basket\"] [\"inrange rgb\"].set_den_low(new_coeff//100))\n\u001b[0;32m     65\u001b[0m cv2.createTrackbar (\"den_high\", \"trackbars\", den[1], 100, \n\u001b[1;32m---> 66\u001b[1;33m     lambda new_coeff : det.processors [\"basket\"] [\"inrange rgb\"].set_den_high(new_coeff//100))\n\u001b[0m\u001b[0;32m     67\u001b[0m \u001b[1;33m\u001b[0m\u001b[0m\n\u001b[0;32m     68\u001b[0m \u001b[1;33m\u001b[0m\u001b[0m\n",
      "\u001b[1;31mAttributeError\u001b[0m: 'inrange' object has no attribute 'set_den_high'"
     ]
    },
    {
     "ename": "AttributeError",
     "evalue": "'inrange' object has no attribute 'set_den_high'",
     "output_type": "error",
     "traceback": [
      "\u001b[1;31m---------------------------------------------------------------------------\u001b[0m",
      "\u001b[1;31mAttributeError\u001b[0m                            Traceback (most recent call last)",
      "\u001b[1;32m<ipython-input-1-923561c15193>\u001b[0m in \u001b[0;36m<lambda>\u001b[1;34m(new_coeff)\u001b[0m\n\u001b[0;32m     64\u001b[0m     lambda new_coeff : det.processors [\"basket\"] [\"inrange rgb\"].set_den_low(new_coeff//100))\n\u001b[0;32m     65\u001b[0m cv2.createTrackbar (\"den_high\", \"trackbars\", den[1], 100, \n\u001b[1;32m---> 66\u001b[1;33m     lambda new_coeff : det.processors [\"basket\"] [\"inrange rgb\"].set_den_high(new_coeff//100))\n\u001b[0m\u001b[0;32m     67\u001b[0m \u001b[1;33m\u001b[0m\u001b[0m\n\u001b[0;32m     68\u001b[0m \u001b[1;33m\u001b[0m\u001b[0m\n",
      "\u001b[1;31mAttributeError\u001b[0m: 'inrange' object has no attribute 'set_den_high'"
     ]
    },
    {
     "ename": "AttributeError",
     "evalue": "'inrange' object has no attribute 'set_den_high'",
     "output_type": "error",
     "traceback": [
      "\u001b[1;31m---------------------------------------------------------------------------\u001b[0m",
      "\u001b[1;31mAttributeError\u001b[0m                            Traceback (most recent call last)",
      "\u001b[1;32m<ipython-input-1-923561c15193>\u001b[0m in \u001b[0;36m<lambda>\u001b[1;34m(new_coeff)\u001b[0m\n\u001b[0;32m     64\u001b[0m     lambda new_coeff : det.processors [\"basket\"] [\"inrange rgb\"].set_den_low(new_coeff//100))\n\u001b[0;32m     65\u001b[0m cv2.createTrackbar (\"den_high\", \"trackbars\", den[1], 100, \n\u001b[1;32m---> 66\u001b[1;33m     lambda new_coeff : det.processors [\"basket\"] [\"inrange rgb\"].set_den_high(new_coeff//100))\n\u001b[0m\u001b[0;32m     67\u001b[0m \u001b[1;33m\u001b[0m\u001b[0m\n\u001b[0;32m     68\u001b[0m \u001b[1;33m\u001b[0m\u001b[0m\n",
      "\u001b[1;31mAttributeError\u001b[0m: 'inrange' object has no attribute 'set_den_high'"
     ]
    },
    {
     "name": "stdout",
     "output_type": "stream",
     "text": [
      "(35, 15, 50) (60, 75, 135)\n"
     ]
    },
    {
     "ename": "AttributeError",
     "evalue": "'inrange' object has no attribute 'set_den_high'",
     "output_type": "error",
     "traceback": [
      "\u001b[1;31m---------------------------------------------------------------------------\u001b[0m",
      "\u001b[1;31mAttributeError\u001b[0m                            Traceback (most recent call last)",
      "\u001b[1;32m<ipython-input-1-923561c15193>\u001b[0m in \u001b[0;36m<lambda>\u001b[1;34m(new_coeff)\u001b[0m\n\u001b[0;32m     64\u001b[0m     lambda new_coeff : det.processors [\"basket\"] [\"inrange rgb\"].set_den_low(new_coeff//100))\n\u001b[0;32m     65\u001b[0m cv2.createTrackbar (\"den_high\", \"trackbars\", den[1], 100, \n\u001b[1;32m---> 66\u001b[1;33m     lambda new_coeff : det.processors [\"basket\"] [\"inrange rgb\"].set_den_high(new_coeff//100))\n\u001b[0m\u001b[0;32m     67\u001b[0m \u001b[1;33m\u001b[0m\u001b[0m\n\u001b[0;32m     68\u001b[0m \u001b[1;33m\u001b[0m\u001b[0m\n",
      "\u001b[1;31mAttributeError\u001b[0m: 'inrange' object has no attribute 'set_den_high'"
     ]
    },
    {
     "name": "stdout",
     "output_type": "stream",
     "text": [
      "(35, 15, 50) (60, 75, 135)\n"
     ]
    },
    {
     "ename": "AttributeError",
     "evalue": "'inrange' object has no attribute 'set_den_high'",
     "output_type": "error",
     "traceback": [
      "\u001b[1;31m---------------------------------------------------------------------------\u001b[0m",
      "\u001b[1;31mAttributeError\u001b[0m                            Traceback (most recent call last)",
      "\u001b[1;32m<ipython-input-1-923561c15193>\u001b[0m in \u001b[0;36m<lambda>\u001b[1;34m(new_coeff)\u001b[0m\n\u001b[0;32m     64\u001b[0m     lambda new_coeff : det.processors [\"basket\"] [\"inrange rgb\"].set_den_low(new_coeff//100))\n\u001b[0;32m     65\u001b[0m cv2.createTrackbar (\"den_high\", \"trackbars\", den[1], 100, \n\u001b[1;32m---> 66\u001b[1;33m     lambda new_coeff : det.processors [\"basket\"] [\"inrange rgb\"].set_den_high(new_coeff//100))\n\u001b[0m\u001b[0;32m     67\u001b[0m \u001b[1;33m\u001b[0m\u001b[0m\n\u001b[0;32m     68\u001b[0m \u001b[1;33m\u001b[0m\u001b[0m\n",
      "\u001b[1;31mAttributeError\u001b[0m: 'inrange' object has no attribute 'set_den_high'"
     ]
    },
    {
     "name": "stdout",
     "output_type": "stream",
     "text": [
      "(35, 15, 50) (60, 75, 135)\n",
      "(35, 15, 50) (60, 75, 135)\n",
      "(35, 15, 50) (60, 75, 135)\n",
      "(35, 15, 50) (60, 75, 135)\n",
      "(35, 15, 50) (60, 75, 135)\n",
      "(35, 15, 50) (60, 75, 135)\n",
      "(35, 15, 50) (60, 75, 135)\n",
      "(35, 15, 50) (60, 75, 135)\n",
      "(35, 15, 50) (60, 75, 135)\n",
      "(35, 15, 50) (60, 75, 135)\n",
      "(35, 15, 50) (60, 75, 135)\n",
      "(35, 15, 50) (60, 75, 135)\n",
      "(35, 15, 50) (60, 75, 135)\n",
      "(35, 15, 50) (60, 75, 135)\n",
      "(35, 15, 50) (60, 75, 135)\n",
      "(35, 15, 50) (60, 75, 135)\n",
      "(35, 15, 50) (60, 75, 135)\n",
      "(35, 15, 50) (60, 75, 135)\n",
      "(35, 15, 50) (60, 75, 135)\n",
      "(35, 15, 50) (60, 75, 135)\n",
      "(35, 15, 50) (60, 75, 135)\n",
      "(35, 15, 50) (60, 75, 135)\n",
      "(35, 15, 50) (60, 75, 135)\n",
      "(35, 15, 50) (60, 75, 135)\n",
      "(35, 15, 50) (60, 75, 135)\n",
      "(35, 15, 50) (60, 75, 135)\n",
      "(35, 15, 50) (60, 75, 135)\n",
      "(35, 15, 50) (60, 75, 135)\n",
      "(35, 15, 50) (60, 75, 135)\n",
      "(35, 15, 50) (60, 75, 135)\n",
      "(35, 15, 50) (60, 75, 135)\n",
      "(35, 15, 50) (60, 75, 135)\n",
      "(35, 15, 50) (60, 75, 135)\n",
      "(35, 15, 50) (60, 75, 135)\n",
      "(35, 15, 50) (60, 75, 135)\n",
      "(35, 15, 50) (60, 75, 135)\n",
      "(35, 15, 50) (60, 75, 135)\n",
      "(35, 15, 50) (60, 75, 135)\n",
      "(35, 15, 50) (60, 75, 135)\n",
      "(35, 15, 50) (60, 75, 135)\n",
      "(35, 15, 50) (60, 75, 135)\n",
      "(35, 15, 50) (60, 75, 135)\n",
      "(35, 15, 50) (60, 75, 135)\n",
      "(35, 15, 50) (60, 75, 135)\n",
      "(35, 15, 50) (60, 75, 135)\n",
      "(35, 15, 50) (60, 75, 135)\n",
      "(35, 15, 50) (60, 75, 135)\n",
      "(35, 15, 50) (60, 75, 135)\n",
      "(35, 15, 50) (60, 75, 135)\n",
      "(35, 15, 50) (60, 75, 135)\n",
      "(35, 15, 50) (60, 75, 135)\n",
      "(35, 15, 50) (60, 75, 135)\n",
      "(35, 15, 50) (60, 75, 135)\n",
      "(35, 15, 50) (60, 75, 135)\n",
      "(35, 15, 50) (60, 75, 135)\n",
      "(35, 15, 50) (60, 75, 135)\n",
      "(35, 15, 50) (60, 75, 135)\n",
      "(35, 15, 50) (60, 75, 135)\n",
      "(35, 15, 50) (60, 75, 135)\n",
      "(35, 15, 50) (60, 75, 135)\n",
      "(35, 15, 50) (60, 75, 135)\n",
      "(35, 15, 50) (60, 75, 135)\n",
      "(35, 15, 50) (60, 75, 135)\n",
      "(35, 15, 50) (60, 75, 135)\n",
      "(35, 15, 50) (60, 75, 135)\n",
      "(35, 15, 50) (60, 75, 135)\n",
      "(35, 15, 50) (60, 75, 135)\n",
      "(35, 15, 50) (60, 75, 135)\n",
      "(35, 15, 50) (60, 75, 135)\n",
      "(35, 15, 50) (60, 75, 135)\n",
      "(35, 15, 50) (60, 75, 135)\n",
      "(35, 15, 50) (60, 75, 135)\n",
      "(35, 15, 50) (60, 75, 135)\n",
      "(35, 15, 50) (60, 75, 135)\n",
      "(35, 15, 50) (60, 75, 135)\n",
      "(35, 15, 50) (60, 75, 135)\n",
      "(35, 15, 50) (60, 75, 135)\n",
      "(35, 15, 50) (60, 75, 135)\n",
      "(35, 15, 50) (60, 75, 135)\n",
      "(35, 15, 50) (60, 75, 135)\n",
      "(35, 15, 50) (60, 75, 135)\n",
      "(35, 15, 50) (60, 75, 135)\n",
      "(35, 15, 50) (60, 75, 135)\n",
      "(35, 15, 50) (60, 75, 135)\n",
      "(35, 15, 50) (60, 75, 135)\n",
      "(35, 15, 50) (60, 75, 135)\n",
      "(35, 15, 50) (60, 75, 135)\n",
      "(35, 15, 50) (60, 75, 135)\n",
      "(35, 15, 50) (60, 75, 135)\n",
      "(35, 15, 50) (60, 75, 135)\n",
      "(35, 15, 50) (60, 75, 135)\n",
      "(35, 15, 50) (60, 75, 135)\n",
      "(35, 15, 50) (60, 75, 135)\n",
      "(35, 15, 50) (60, 75, 135)\n",
      "(35, 15, 50) (60, 75, 135)\n",
      "(35, 15, 50) (60, 75, 135)\n"
     ]
    }
   ],
   "source": [
    "import cv2\n",
    "import time\n",
    "import os\n",
    "import math\n",
    "import sys\n",
    "\n",
    "sys.path.append(\"../modules/\")\n",
    "\n",
    "import input_output\n",
    "import processor\n",
    "\n",
    "det = processor.Processors ()\n",
    "det.add_processor (\"basket\")\n",
    "\n",
    "#gamma correction (lighting conditions change simulation) and online tuning\n",
    "det.add_filter (processor.gamma_correction (1), \"basket\", \"gamma correction\")\n",
    "cv2.namedWindow ('trackbars',cv2.WINDOW_NORMAL)\n",
    "cv2.createTrackbar (\"gamma\", \"trackbars\", 100, 200, \n",
    "    lambda new_coeff : det.processors [\"basket\"] [\"gamma correction\"].set_gamma (float (new_coeff) / 100))\n",
    "\n",
    "low_th  = [35, 15, 50]\n",
    "high_th = [60, 75, 135]\n",
    "area = [100, 1000]\n",
    "hei = [30,1000]\n",
    "wid = [30,1000]\n",
    "den = [1,100] #В процентах\n",
    "\n",
    "det.add_filter (processor.inrange (low_th, high_th), \"basket\", \"inrange rgb\")\n",
    "det.add_filter (processor.filter_connected_components (), \"basket\", \"filter_connected_components\")\n",
    "'''self.area_low  = area_low_\n",
    "        self.area_high = area_high_\n",
    "        self.hei_low   = hei_low_\n",
    "        self.hei_high  = hei_high_\n",
    "        self.wid_low   = wid_low_\n",
    "        self.wid_high  = wid_high_\n",
    "        self.den_low   = den_low_\n",
    "        self.den_high  = den_high_'''\n",
    "\n",
    "cv2.createTrackbar (\"r_n\", \"trackbars\", low_th[0], 255, \n",
    "    lambda new_coeff : det.processors [\"basket\"] [\"inrange rgb\"].single_ths(new_coeff, 0))\n",
    "cv2.createTrackbar (\"r_v\", \"trackbars\", high_th[0], 255, \n",
    "    lambda new_coeff : det.processors [\"basket\"] [\"inrange rgb\"].single_ths(new_coeff, 3))\n",
    "cv2.createTrackbar (\"g_n\", \"trackbars\", low_th[1], 255, \n",
    "    lambda new_coeff : det.processors [\"basket\"] [\"inrange rgb\"].single_ths(new_coeff, 1))\n",
    "cv2.createTrackbar (\"g_v\", \"trackbars\", high_th[1], 255, \n",
    "    lambda new_coeff : det.processors [\"basket\"] [\"inrange rgb\"].single_ths(new_coeff, 4))\n",
    "cv2.createTrackbar (\"b_n\", \"trackbars\", low_th[2], 255, \n",
    "    lambda new_coeff : det.processors [\"basket\"] [\"inrange rgb\"].single_ths(new_coeff, 2))\n",
    "cv2.createTrackbar (\"b_v\", \"trackbars\", high_th[2], 255, \n",
    "    lambda new_coeff : det.processors [\"basket\"] [\"inrange rgb\"].single_ths(new_coeff, 5))\n",
    "'''        \n",
    "\n",
    "cv2.createTrackbar (\"area_low\", \"trackbars\", area[0], 300, \n",
    "    lambda new_coeff : det.processors [\"basket\"] [\"filter_connected_components\"].set_area_low(new_coeff))\n",
    "cv2.createTrackbar (\"area_high\", \"trackbars\", area[1], 300, \n",
    "    lambda new_coeff : det.processors [\"basket\"] [\"filter_connected_components\"].set_area_high(new_coeff))\n",
    "\n",
    "cv2.createTrackbar (\"hei_low\", \"trackbars\", hei[0], 1000, \n",
    "    lambda new_coeff : det.processors [\"basket\"] [\"inrange rgb\"].set_hei_low (new_coeff))\n",
    "cv2.createTrackbar (\"hei_high\", \"trackbars\", hei[1], 1000, \n",
    "    lambda new_coeff : det.processors [\"basket\"] [\"inrange rgb\"].set_hei_high(new_coeff))\n",
    "'''\n",
    "cv2.createTrackbar (\"den_low \", \"trackbars\", den[0], 100, \n",
    "    lambda new_coeff : det.processors [\"basket\"] [\"inrange rgb\"].set_den_low(new_coeff//100))\n",
    "cv2.createTrackbar (\"den_high\", \"trackbars\", den[1], 100, \n",
    "    lambda new_coeff : det.processors [\"basket\"] [\"inrange rgb\"].set_den_high(new_coeff//100))\n",
    "\n",
    "\n",
    "\n",
    "#bbox extraction connected componet связная компонента максимальной площади bounting box\n",
    "det.add_filter (processor.max_area_cc_bbox (), \"basket\", \"bbox extraction\")\n",
    "\n",
    "source = input_output.Source (\"../data/images/rgb_basket.jpg\")\n",
    "#source  = input_output.Source (\"../data/output.avi\")\n",
    "#source  = input_output.Source (\"-1\")\n",
    "\n",
    "while (True):\n",
    "    frame = source.get_frame ()\n",
    "\n",
    "    mask, success = det.process (frame, \"basket\")\n",
    "\n",
    "    #получить картинки стадий обработки (она может быть bounting box)\n",
    "    stages = det.get_stages_picts (\"basket\")\n",
    "\n",
    "    for i in range (len (stages)):\n",
    "        cv2.imshow (str (i), stages [i])\n",
    "        \n",
    "    time.sleep (0.02)\n",
    "\n",
    "    keyb = cv2.waitKey (1) & 0xFF\n",
    "\n",
    "    if (keyb == ord('q')):\n",
    "        break\n",
    "\n",
    "source.release()\n",
    "cv2.destroyAllWindows()"
   ]
  },
  {
   "cell_type": "markdown",
   "metadata": {},
   "source": [
    "# Demo №3"
   ]
  },
  {
   "cell_type": "code",
   "execution_count": 3,
   "metadata": {},
   "outputs": [
    {
     "ename": "error",
     "evalue": "OpenCV(4.2.0) c:\\projects\\opencv-python\\opencv\\modules\\imgproc\\src\\color.simd_helpers.hpp:92: error: (-2:Unspecified error) in function '__cdecl cv::impl::`anonymous-namespace'::CvtHelper<struct cv::impl::`anonymous namespace'::Set<3,4,-1>,struct cv::impl::A0x3b52564f::Set<3,-1,-1>,struct cv::impl::A0x3b52564f::Set<0,5,-1>,2>::CvtHelper(const class cv::_InputArray &,const class cv::_OutputArray &,int)'\n> Invalid number of channels in input image:\n>     'VScn::contains(scn)'\n> where\n>     'scn' is 1\n",
     "output_type": "error",
     "traceback": [
      "\u001b[1;31m---------------------------------------------------------------------------\u001b[0m",
      "\u001b[1;31merror\u001b[0m                                     Traceback (most recent call last)",
      "\u001b[1;32m<ipython-input-3-806177a7f8fa>\u001b[0m in \u001b[0;36m<module>\u001b[1;34m\u001b[0m\n\u001b[0;32m     65\u001b[0m     \u001b[0mframe\u001b[0m \u001b[1;33m=\u001b[0m \u001b[0msource\u001b[0m\u001b[1;33m.\u001b[0m\u001b[0mget_frame\u001b[0m \u001b[1;33m(\u001b[0m\u001b[1;33m)\u001b[0m\u001b[1;33m\u001b[0m\u001b[1;33m\u001b[0m\u001b[0m\n\u001b[0;32m     66\u001b[0m \u001b[1;33m\u001b[0m\u001b[0m\n\u001b[1;32m---> 67\u001b[1;33m     \u001b[0mmask\u001b[0m\u001b[1;33m,\u001b[0m \u001b[0msuccess\u001b[0m \u001b[1;33m=\u001b[0m \u001b[0mdet\u001b[0m\u001b[1;33m.\u001b[0m\u001b[0mprocess\u001b[0m \u001b[1;33m(\u001b[0m\u001b[0mframe\u001b[0m\u001b[1;33m,\u001b[0m \u001b[1;34m\"basket\"\u001b[0m\u001b[1;33m)\u001b[0m\u001b[1;33m\u001b[0m\u001b[1;33m\u001b[0m\u001b[0m\n\u001b[0m\u001b[0;32m     68\u001b[0m \u001b[1;33m\u001b[0m\u001b[0m\n\u001b[0;32m     69\u001b[0m     \u001b[0mstages\u001b[0m \u001b[1;33m=\u001b[0m \u001b[0mdet\u001b[0m\u001b[1;33m.\u001b[0m\u001b[0mget_stages_picts\u001b[0m \u001b[1;33m(\u001b[0m\u001b[1;34m\"basket\"\u001b[0m\u001b[1;33m)\u001b[0m\u001b[1;33m\u001b[0m\u001b[1;33m\u001b[0m\u001b[0m\n",
      "\u001b[1;32m~\\Desktop\\robotics_course-master\\robotics_course-master\\modules\\processor.py\u001b[0m in \u001b[0;36mprocess\u001b[1;34m(self, image, processor_name)\u001b[0m\n\u001b[0;32m    646\u001b[0m             \u001b[0mprevious_step\u001b[0m \u001b[1;33m=\u001b[0m \u001b[0mself\u001b[0m\u001b[1;33m.\u001b[0m\u001b[0mstages\u001b[0m \u001b[1;33m[\u001b[0m\u001b[0mprocessor_name\u001b[0m\u001b[1;33m]\u001b[0m \u001b[1;33m[\u001b[0m\u001b[1;33m-\u001b[0m\u001b[1;36m1\u001b[0m\u001b[1;33m]\u001b[0m\u001b[1;33m\u001b[0m\u001b[1;33m\u001b[0m\u001b[0m\n\u001b[0;32m    647\u001b[0m \u001b[1;33m\u001b[0m\u001b[0m\n\u001b[1;32m--> 648\u001b[1;33m             \u001b[0mcurr_state\u001b[0m \u001b[1;33m=\u001b[0m \u001b[0mfilter\u001b[0m\u001b[1;33m.\u001b[0m\u001b[0mapply\u001b[0m \u001b[1;33m(\u001b[0m\u001b[0mprevious_step\u001b[0m\u001b[1;33m)\u001b[0m\u001b[1;33m\u001b[0m\u001b[1;33m\u001b[0m\u001b[0m\n\u001b[0m\u001b[0;32m    649\u001b[0m \u001b[1;33m\u001b[0m\u001b[0m\n\u001b[0;32m    650\u001b[0m             \u001b[1;31m#print (\"name, filter, curr_state\", name, filter, curr_state)\u001b[0m\u001b[1;33m\u001b[0m\u001b[1;33m\u001b[0m\u001b[1;33m\u001b[0m\u001b[0m\n",
      "\u001b[1;32m~\\Desktop\\robotics_course-master\\robotics_course-master\\modules\\processor.py\u001b[0m in \u001b[0;36mapply\u001b[1;34m(self, img)\u001b[0m\n\u001b[0;32m    189\u001b[0m     \u001b[1;32mdef\u001b[0m \u001b[0mapply\u001b[0m \u001b[1;33m(\u001b[0m\u001b[0mself\u001b[0m\u001b[1;33m,\u001b[0m \u001b[0mimg\u001b[0m\u001b[1;33m)\u001b[0m\u001b[1;33m:\u001b[0m\u001b[1;33m\u001b[0m\u001b[1;33m\u001b[0m\u001b[0m\n\u001b[0;32m    190\u001b[0m         return cv2.cvtColor (img, self.transforms [self.source_colorspace +\n\u001b[1;32m--> 191\u001b[1;33m                              \"2\" + self.target_colorspace])\n\u001b[0m\u001b[0;32m    192\u001b[0m \u001b[1;33m\u001b[0m\u001b[0m\n\u001b[0;32m    193\u001b[0m \u001b[1;32mclass\u001b[0m \u001b[0minrange\u001b[0m \u001b[1;33m(\u001b[0m\u001b[0mFilter\u001b[0m\u001b[1;33m)\u001b[0m\u001b[1;33m:\u001b[0m\u001b[1;33m\u001b[0m\u001b[1;33m\u001b[0m\u001b[0m\n",
      "\u001b[1;31merror\u001b[0m: OpenCV(4.2.0) c:\\projects\\opencv-python\\opencv\\modules\\imgproc\\src\\color.simd_helpers.hpp:92: error: (-2:Unspecified error) in function '__cdecl cv::impl::`anonymous-namespace'::CvtHelper<struct cv::impl::`anonymous namespace'::Set<3,4,-1>,struct cv::impl::A0x3b52564f::Set<3,-1,-1>,struct cv::impl::A0x3b52564f::Set<0,5,-1>,2>::CvtHelper(const class cv::_InputArray &,const class cv::_OutputArray &,int)'\n> Invalid number of channels in input image:\n>     'VScn::contains(scn)'\n> where\n>     'scn' is 1\n"
     ]
    }
   ],
   "source": [
    "import cv2\n",
    "import time\n",
    "import os\n",
    "import math\n",
    "import sys\n",
    "from matplotlib import pyplot as plt\n",
    "\n",
    "sys.path.append(\"../modules/\")\n",
    "\n",
    "import input_output\n",
    "import processor\n",
    "\n",
    "det = processor.Processors ()\n",
    "det.add_processor (\"basket\")\n",
    "niz = [0]*3\n",
    "verh = [0]*3\n",
    "\n",
    "#gamma correction (lighting conditions change simulation) and online tuning\n",
    "det.add_filter (processor.gamma_correction (1), \"basket\", \"gamma correction\")\n",
    "cv2.namedWindow ('trackbars')\n",
    "\n",
    "cv2.createTrackbar (\"gamma\", \"trackbars\", 100, 200, \n",
    "    lambda new_coeff : det.processors [\"basket\"] [\"gamma correction\"].set_gamma (float (new_coeff) / 100))\n",
    "\n",
    "#cv2.namedWindow ('filter')\n",
    "\n",
    "low_th  = [35, 15, 50]\n",
    "high_th = [60, 75, 135]\n",
    "det.add_filter (processor.inrange (low_th, high_th), \"basket\", \"inrange rgb\")\n",
    "\n",
    "'''cv2.createTrackbar (\"r_n\", \"trackbars\", low_th[0], 255, \n",
    "    lambda new_coeff : det.processors [\"basket\"] [\"inrange rgb\"].single_ths(new_coeff, 0))\n",
    "cv2.createTrackbar (\"r_v\", \"trackbars\", low_th[1], 255, \n",
    "    lambda new_coeff : det.processors [\"basket\"] [\"inrange rgb\"].single_ths(new_coeff, 1))\n",
    "cv2.createTrackbar (\"g_n\", \"trackbars\", low_th[2], 255, \n",
    "    lambda new_coeff : det.processors [\"basket\"] [\"inrange rgb\"].single_ths(new_coeff, 2))\n",
    "cv2.createTrackbar (\"g_v\", \"trackbars\", high_th[0], 255, \n",
    "    lambda new_coeff : det.processors [\"basket\"] [\"inrange rgb\"].single_ths(new_coeff, 3))\n",
    "cv2.createTrackbar (\"b_n\", \"trackbars\", high_th[1], 255, \n",
    "    lambda new_coeff : det.processors [\"basket\"] [\"inrange rgb\"].single_ths(new_coeff, 4))\n",
    "cv2.createTrackbar (\"b_v\", \"trackbars\", high_th[2], 255, \n",
    "    lambda new_coeff : det.processors [\"basket\"] [\"inrange rgb\"].single_ths(new_coeff, 5))\n",
    "\n",
    "'''\n",
    "\n",
    "det.add_filter (processor.colorspace_to_colorspace (\"RGB\", \"HSV\"),\n",
    "                \"basket\", \"colorspaces change 1\")\n",
    "\n",
    "\n",
    "\n",
    "# low_th  = (35, 15, 50)\n",
    "# high_th = (60, 75, 135)\n",
    "# det.add_filter (processor.inrange (low_th, high_th), \"basket\", \"inrange hsv\")\n",
    "\n",
    "#bbox extraction\n",
    "det.add_filter (processor.max_area_cc_bbox (), \"basket\", \"bbox extraction\")\n",
    "\n",
    "source = input_output.Source (\"../data/images/rgb_basket.jpg\")\n",
    "#source  = input_output.Source (\"../data/output.avi\")\n",
    "#source  = input_output.Source (\"-1\")\n",
    "\n",
    "while (True):\n",
    "    \n",
    "    \n",
    "    \n",
    "    frame = source.get_frame ()\n",
    "\n",
    "    mask, success = det.process (frame, \"basket\")\n",
    "\n",
    "    stages = det.get_stages_picts (\"basket\")\n",
    "\n",
    "    for i in range (len (stages)):\n",
    "        cv2.imshow (str (i), stages [i])\n",
    "        \n",
    "    time.sleep (0.02)\n",
    "\n",
    "    keyb = cv2.waitKey (1) & 0xFF\n",
    "\n",
    "    if (keyb == ord('q')):\n",
    "        break\n",
    "\n",
    "source.release()\n",
    "cv2.destroyAllWindows()"
   ]
  },
  {
   "cell_type": "code",
   "execution_count": null,
   "metadata": {},
   "outputs": [],
   "source": []
  },
  {
   "cell_type": "code",
   "execution_count": null,
   "metadata": {},
   "outputs": [],
   "source": []
  }
 ],
 "metadata": {
  "kernelspec": {
   "display_name": "Python 3",
   "language": "python",
   "name": "python3"
  },
  "language_info": {
   "codemirror_mode": {
    "name": "ipython",
    "version": 3
   },
   "file_extension": ".py",
   "mimetype": "text/x-python",
   "name": "python",
   "nbconvert_exporter": "python",
   "pygments_lexer": "ipython3",
   "version": "3.7.4"
  }
 },
 "nbformat": 4,
 "nbformat_minor": 2
}
